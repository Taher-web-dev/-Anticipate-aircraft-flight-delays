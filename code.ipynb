{
 "cells": [
  {
   "cell_type": "markdown",
   "metadata": {},
   "source": [
    "# Importing Librairies"
   ]
  },
  {
   "cell_type": "code",
   "execution_count": 1,
   "metadata": {},
   "outputs": [],
   "source": [
    "import pandas as pd\n",
    "import numpy as np\n",
    "import matplotlib.pyplot as plt\n",
    "from sklearn.linear_model import *\n",
    "from sklearn.svm import LinearSVC\n",
    "from sklearn.model_selection import GridSearchCV\n",
    "from sklearn.model_selection import train_test_split\n",
    "from sklearn.metrics import roc_curve,auc\n",
    "from sklearn.neighbors import KNeighborsClassifier\n",
    "from sklearn.preprocessing import *\n",
    "from sklearn.metrics import accuracy_score\n",
    "from sklearn.metrics import mean_squared_error\n",
    "from math import sqrt "
   ]
  },
  {
   "cell_type": "markdown",
   "metadata": {},
   "source": [
    "# Importing data"
   ]
  },
  {
   "cell_type": "code",
   "execution_count": 2,
   "metadata": {},
   "outputs": [],
   "source": [
    "data=pd.read_csv('vols.csv')"
   ]
  },
  {
   "cell_type": "code",
   "execution_count": 3,
   "metadata": {},
   "outputs": [
    {
     "data": {
      "text/html": [
       "<div>\n",
       "<style scoped>\n",
       "    .dataframe tbody tr th:only-of-type {\n",
       "        vertical-align: middle;\n",
       "    }\n",
       "\n",
       "    .dataframe tbody tr th {\n",
       "        vertical-align: top;\n",
       "    }\n",
       "\n",
       "    .dataframe thead th {\n",
       "        text-align: right;\n",
       "    }\n",
       "</style>\n",
       "<table border=\"1\" class=\"dataframe\">\n",
       "  <thead>\n",
       "    <tr style=\"text-align: right;\">\n",
       "      <th></th>\n",
       "      <th>Unnamed: 0</th>\n",
       "      <th>QUARTER</th>\n",
       "      <th>MONTH</th>\n",
       "      <th>DAY_OF_MONTH</th>\n",
       "      <th>DAY_OF_WEEK</th>\n",
       "      <th>CRS_DEP_TIME</th>\n",
       "      <th>CRS_ARR_TIME</th>\n",
       "      <th>CRS_ELAPSED_TIME</th>\n",
       "      <th>DISTANCE</th>\n",
       "      <th>AA</th>\n",
       "      <th>...</th>\n",
       "      <th>NK</th>\n",
       "      <th>EV</th>\n",
       "      <th>OO</th>\n",
       "      <th>UA</th>\n",
       "      <th>VX</th>\n",
       "      <th>WN</th>\n",
       "      <th>risque_or_aeroport</th>\n",
       "      <th>risque_des_aeroport</th>\n",
       "      <th>LATENESS</th>\n",
       "      <th>ARR_DELAY</th>\n",
       "    </tr>\n",
       "  </thead>\n",
       "  <tbody>\n",
       "    <tr>\n",
       "      <th>0</th>\n",
       "      <td>0</td>\n",
       "      <td>1</td>\n",
       "      <td>1</td>\n",
       "      <td>6.0</td>\n",
       "      <td>3</td>\n",
       "      <td>660.0</td>\n",
       "      <td>878.0</td>\n",
       "      <td>158.0</td>\n",
       "      <td>986.0</td>\n",
       "      <td>1</td>\n",
       "      <td>...</td>\n",
       "      <td>0</td>\n",
       "      <td>0</td>\n",
       "      <td>0</td>\n",
       "      <td>0</td>\n",
       "      <td>0</td>\n",
       "      <td>0</td>\n",
       "      <td>76937</td>\n",
       "      <td>34317</td>\n",
       "      <td>0</td>\n",
       "      <td>-6.0</td>\n",
       "    </tr>\n",
       "    <tr>\n",
       "      <th>1</th>\n",
       "      <td>1</td>\n",
       "      <td>1</td>\n",
       "      <td>1</td>\n",
       "      <td>7.0</td>\n",
       "      <td>4</td>\n",
       "      <td>660.0</td>\n",
       "      <td>878.0</td>\n",
       "      <td>158.0</td>\n",
       "      <td>986.0</td>\n",
       "      <td>1</td>\n",
       "      <td>...</td>\n",
       "      <td>0</td>\n",
       "      <td>0</td>\n",
       "      <td>0</td>\n",
       "      <td>0</td>\n",
       "      <td>0</td>\n",
       "      <td>0</td>\n",
       "      <td>76937</td>\n",
       "      <td>34317</td>\n",
       "      <td>0</td>\n",
       "      <td>-12.0</td>\n",
       "    </tr>\n",
       "    <tr>\n",
       "      <th>2</th>\n",
       "      <td>2</td>\n",
       "      <td>1</td>\n",
       "      <td>1</td>\n",
       "      <td>8.0</td>\n",
       "      <td>5</td>\n",
       "      <td>660.0</td>\n",
       "      <td>878.0</td>\n",
       "      <td>158.0</td>\n",
       "      <td>986.0</td>\n",
       "      <td>1</td>\n",
       "      <td>...</td>\n",
       "      <td>0</td>\n",
       "      <td>0</td>\n",
       "      <td>0</td>\n",
       "      <td>0</td>\n",
       "      <td>0</td>\n",
       "      <td>0</td>\n",
       "      <td>76937</td>\n",
       "      <td>34317</td>\n",
       "      <td>1</td>\n",
       "      <td>7.0</td>\n",
       "    </tr>\n",
       "    <tr>\n",
       "      <th>3</th>\n",
       "      <td>3</td>\n",
       "      <td>1</td>\n",
       "      <td>1</td>\n",
       "      <td>9.0</td>\n",
       "      <td>6</td>\n",
       "      <td>660.0</td>\n",
       "      <td>878.0</td>\n",
       "      <td>158.0</td>\n",
       "      <td>986.0</td>\n",
       "      <td>1</td>\n",
       "      <td>...</td>\n",
       "      <td>0</td>\n",
       "      <td>0</td>\n",
       "      <td>0</td>\n",
       "      <td>0</td>\n",
       "      <td>0</td>\n",
       "      <td>0</td>\n",
       "      <td>76937</td>\n",
       "      <td>34317</td>\n",
       "      <td>0</td>\n",
       "      <td>-5.0</td>\n",
       "    </tr>\n",
       "    <tr>\n",
       "      <th>4</th>\n",
       "      <td>4</td>\n",
       "      <td>1</td>\n",
       "      <td>1</td>\n",
       "      <td>10.0</td>\n",
       "      <td>7</td>\n",
       "      <td>660.0</td>\n",
       "      <td>878.0</td>\n",
       "      <td>158.0</td>\n",
       "      <td>986.0</td>\n",
       "      <td>1</td>\n",
       "      <td>...</td>\n",
       "      <td>0</td>\n",
       "      <td>0</td>\n",
       "      <td>0</td>\n",
       "      <td>0</td>\n",
       "      <td>0</td>\n",
       "      <td>0</td>\n",
       "      <td>76937</td>\n",
       "      <td>34317</td>\n",
       "      <td>1</td>\n",
       "      <td>113.0</td>\n",
       "    </tr>\n",
       "  </tbody>\n",
       "</table>\n",
       "<p>5 rows × 25 columns</p>\n",
       "</div>"
      ],
      "text/plain": [
       "   Unnamed: 0  QUARTER  MONTH  DAY_OF_MONTH  DAY_OF_WEEK  CRS_DEP_TIME  \\\n",
       "0           0        1      1           6.0            3         660.0   \n",
       "1           1        1      1           7.0            4         660.0   \n",
       "2           2        1      1           8.0            5         660.0   \n",
       "3           3        1      1           9.0            6         660.0   \n",
       "4           4        1      1          10.0            7         660.0   \n",
       "\n",
       "   CRS_ARR_TIME  CRS_ELAPSED_TIME  DISTANCE  AA    ...      NK  EV  OO  UA  \\\n",
       "0         878.0             158.0     986.0   1    ...       0   0   0   0   \n",
       "1         878.0             158.0     986.0   1    ...       0   0   0   0   \n",
       "2         878.0             158.0     986.0   1    ...       0   0   0   0   \n",
       "3         878.0             158.0     986.0   1    ...       0   0   0   0   \n",
       "4         878.0             158.0     986.0   1    ...       0   0   0   0   \n",
       "\n",
       "   VX  WN  risque_or_aeroport  risque_des_aeroport  LATENESS  ARR_DELAY  \n",
       "0   0   0               76937                34317         0       -6.0  \n",
       "1   0   0               76937                34317         0      -12.0  \n",
       "2   0   0               76937                34317         1        7.0  \n",
       "3   0   0               76937                34317         0       -5.0  \n",
       "4   0   0               76937                34317         1      113.0  \n",
       "\n",
       "[5 rows x 25 columns]"
      ]
     },
     "execution_count": 3,
     "metadata": {},
     "output_type": "execute_result"
    }
   ],
   "source": [
    "data.head() # survey of the data "
   ]
  },
  {
   "cell_type": "code",
   "execution_count": 4,
   "metadata": {},
   "outputs": [],
   "source": [
    "del(data['Unnamed: 0'])"
   ]
  },
  {
   "cell_type": "markdown",
   "metadata": {},
   "source": [
    "# Predict flight delay"
   ]
  },
  {
   "cell_type": "markdown",
   "metadata": {},
   "source": [
    "**We will try to define the best model which can predict when the flight can make delay.**"
   ]
  },
  {
   "cell_type": "markdown",
   "metadata": {},
   "source": [
    "<font color='blue'> <font size=3> ** Splitting data**"
   ]
  },
  {
   "cell_type": "markdown",
   "metadata": {},
   "source": [
    "We will try to define model, linked the variable LATENESS to the others variables."
   ]
  },
  {
   "cell_type": "code",
   "execution_count": 5,
   "metadata": {},
   "outputs": [],
   "source": [
    "indx_train=np.random.choice(len(data),5000) # index of training data \n",
    "indx_test=np.arange(len(data))[~indx_train] # index of test data"
   ]
  },
  {
   "cell_type": "code",
   "execution_count": 6,
   "metadata": {},
   "outputs": [],
   "source": [
    "df=data.values"
   ]
  },
  {
   "cell_type": "markdown",
   "metadata": {},
   "source": [
    "<font color='blue'><font size=3>**Seperating data**</font>"
   ]
  },
  {
   "cell_type": "code",
   "execution_count": 7,
   "metadata": {},
   "outputs": [],
   "source": [
    "Xtr=df[indx_train,:-2] #training set on the first ten month\n",
    "Ytr=df[indx_train,-2]\n",
    "Xts=df[indx_test,:-2] #training set on the last two month\n",
    "Yts=df[indx_test,-2]\n"
   ]
  },
  {
   "cell_type": "markdown",
   "metadata": {},
   "source": [
    "<font color='blue'><font size=3>**Test differents models**</font>"
   ]
  },
  {
   "cell_type": "markdown",
   "metadata": {},
   "source": [
    "<font color='green'><font size=2> ** KNeighbors Model ** </font>"
   ]
  },
  {
   "cell_type": "code",
   "execution_count": 8,
   "metadata": {},
   "outputs": [
    {
     "data": {
      "text/plain": [
       "GridSearchCV(cv=5, error_score='raise',\n",
       "       estimator=KNeighborsClassifier(algorithm='auto', leaf_size=30, metric='minkowski',\n",
       "           metric_params=None, n_jobs=1, n_neighbors=5, p=2,\n",
       "           weights='uniform'),\n",
       "       fit_params=None, iid=True, n_jobs=1,\n",
       "       param_grid={'n_neighbors': [3, 5, 7, 9, 11, 13, 15]},\n",
       "       pre_dispatch='2*n_jobs', refit=True, return_train_score='warn',\n",
       "       scoring=None, verbose=0)"
      ]
     },
     "execution_count": 8,
     "metadata": {},
     "output_type": "execute_result"
    }
   ],
   "source": [
    "lr=KNeighborsClassifier()\n",
    "params={'n_neighbors':[3,5,7,9,11,13,15]}\n",
    "gs_kn=GridSearchCV(lr,params,cv=5)\n",
    "gs_kn.fit(Xtr,Ytr)"
   ]
  },
  {
   "cell_type": "code",
   "execution_count": 9,
   "metadata": {},
   "outputs": [
    {
     "name": "stdout",
     "output_type": "stream",
     "text": [
      "{'n_neighbors': 15}\n"
     ]
    }
   ],
   "source": [
    "#The best hyperparametrs of the Knn model\n",
    "print(gs_kn.best_params_)"
   ]
  },
  {
   "cell_type": "code",
   "execution_count": 10,
   "metadata": {},
   "outputs": [
    {
     "name": "stdout",
     "output_type": "stream",
     "text": [
      "roc_auc=0.5517776355146375\n",
      "Accuracy=0.6274\n"
     ]
    }
   ],
   "source": [
    "#estimate the performance of the knn model.\n",
    "ypro=gs_kn.predict_proba(Xts)[:,1]\n",
    "ypre=gs_kn.predict(Xts)\n",
    "false_pos,tr_pos,thresh=roc_curve(Yts,ypro)\n",
    "roc_auc_knn=auc(false_pos,tr_pos)\n",
    "accuracy_knn=accuracy_score(Yts,ypre)\n",
    "print('roc_auc={}'.format(roc_auc_knn)),\n",
    "print('Accuracy={}'.format(accuracy_knn))"
   ]
  },
  {
   "cell_type": "code",
   "execution_count": 11,
   "metadata": {},
   "outputs": [
    {
     "data": {
      "image/png": "[encoded data removed]",
      "text/plain": [
       "<Figure size 432x288 with 1 Axes>"
      ]
     },
     "metadata": {},
     "output_type": "display_data"
    }
   ],
   "source": [
    "#Visualization of the Roc curve for the KNN model.\n",
    "plt.plot(false_pos,tr_pos,label='AUC={}'.format(roc_auc_knn))\n",
    "plt.legend()\n",
    "plt.xlabel('False positive rate',color='red',fontsize=12)\n",
    "plt.ylabel('True positive rate',color='red',fontsize=12)\n",
    "plt.title('Roc curve of the KNN model')\n",
    "plt.show()"
   ]
  },
  {
   "cell_type": "markdown",
   "metadata": {},
   "source": [
    "<font color='green'><font size=2>**Logistic Model**</font>"
   ]
  },
  {
   "cell_type": "code",
   "execution_count": 12,
   "metadata": {},
   "outputs": [
    {
     "data": {
      "text/plain": [
       "GridSearchCV(cv=5, error_score='raise',\n",
       "       estimator=LogisticRegression(C=1.0, class_weight=None, dual=False, fit_intercept=True,\n",
       "          intercept_scaling=1, max_iter=100, multi_class='ovr', n_jobs=1,\n",
       "          penalty='l2', random_state=None, solver='liblinear', tol=0.0001,\n",
       "          verbose=0, warm_start=False),\n",
       "       fit_params=None, iid=True, n_jobs=1,\n",
       "       param_grid={'C': array([1.e-03, 1.e-02, 1.e-01, 1.e+00, 1.e+01, 1.e+02, 1.e+03]), 'penalty': ['l1', 'l2']},\n",
       "       pre_dispatch='2*n_jobs', refit=True, return_train_score='warn',\n",
       "       scoring=None, verbose=0)"
      ]
     },
     "execution_count": 12,
     "metadata": {},
     "output_type": "execute_result"
    }
   ],
   "source": [
    "lc=LogisticRegression()\n",
    "params={'C':np.logspace(-3,3,7),'penalty':['l1','l2']}\n",
    "gs_lc=GridSearchCV(lc,params,cv=5)\n",
    "gs_lc.fit(Xtr,Ytr)"
   ]
  },
  {
   "cell_type": "code",
   "execution_count": 13,
   "metadata": {},
   "outputs": [
    {
     "name": "stdout",
     "output_type": "stream",
     "text": [
      "{'C': 0.01, 'penalty': 'l1'}\n"
     ]
    }
   ],
   "source": [
    "#The best hyperparametrs of the Logistic model.\n",
    "print(gs_lc.best_params_)"
   ]
  },
  {
   "cell_type": "code",
   "execution_count": 14,
   "metadata": {},
   "outputs": [
    {
     "name": "stdout",
     "output_type": "stream",
     "text": [
      "roc_auc=0.5434571310538604\n",
      "Accuracy=0.6658\n"
     ]
    }
   ],
   "source": [
    "#estimate the performance of the logistic model.\n",
    "ypro=gs_lc.predict_proba(Xts)[:,1]\n",
    "ypr=gs_lc.predict(Xts)\n",
    "false_pos,tr_pos,thresh=roc_curve(Yts,ypro)\n",
    "roc_auc_logistic=auc(false_pos,tr_pos)\n",
    "accuracy_logistic=accuracy_score(Yts,ypr)\n",
    "print('roc_auc={}'.format(roc_auc_logistic)),\n",
    "print('Accuracy={}'.format(accuracy_logistic))"
   ]
  },
  {
   "cell_type": "code",
   "execution_count": 15,
   "metadata": {},
   "outputs": [
    {
     "data": {
      "image/png": "[encoded data removed]",
      "text/plain": [
       "<Figure size 432x288 with 1 Axes>"
      ]
     },
     "metadata": {},
     "output_type": "display_data"
    }
   ],
   "source": [
    "#Visualization of the Roc curve for the Logistic model.\n",
    "plt.plot(false_pos,tr_pos,label='AUC={}'.format(roc_auc_logistic))\n",
    "plt.legend()\n",
    "plt.xlabel('False positive rate',color='red',fontsize=12)\n",
    "plt.ylabel('True positive rate',color='red',fontsize=12)\n",
    "plt.title('Roc curve of the Logistic model')\n",
    "plt.show()"
   ]
  },
  {
   "cell_type": "markdown",
   "metadata": {},
   "source": [
    "<font color='green'><font size=2> ** SVM Linear Model **</font>"
   ]
  },
  {
   "cell_type": "code",
   "execution_count": 16,
   "metadata": {},
   "outputs": [
    {
     "data": {
      "text/plain": [
       "GridSearchCV(cv=5, error_score='raise',\n",
       "       estimator=LinearSVC(C=1.0, class_weight=None, dual=True, fit_intercept=True,\n",
       "     intercept_scaling=1, loss='squared_hinge', max_iter=1000,\n",
       "     multi_class='ovr', penalty='l2', random_state=None, tol=0.0001,\n",
       "     verbose=0),\n",
       "       fit_params=None, iid=True, n_jobs=1,\n",
       "       param_grid={'C': array([1.00000e-03, 4.64159e-03, 2.15443e-02, 1.00000e-01, 4.64159e-01,\n",
       "       2.15443e+00, 1.00000e+01, 4.64159e+01, 2.15443e+02, 1.00000e+03])},\n",
       "       pre_dispatch='2*n_jobs', refit=True, return_train_score='warn',\n",
       "       scoring=None, verbose=0)"
      ]
     },
     "execution_count": 16,
     "metadata": {},
     "output_type": "execute_result"
    }
   ],
   "source": [
    "lsvm=LinearSVC()\n",
    "params={'C':np.logspace(-3,3,10)}\n",
    "gs_svc=GridSearchCV(lsvm,params,cv=5)\n",
    "gs_svc.fit(Xtr,Ytr)"
   ]
  },
  {
   "cell_type": "code",
   "execution_count": 17,
   "metadata": {},
   "outputs": [
    {
     "name": "stdout",
     "output_type": "stream",
     "text": [
      "{'C': 0.001}\n"
     ]
    }
   ],
   "source": [
    "#The best hyperparametr of the SVM linear model.\n",
    "print(gs_svc.best_params_)"
   ]
  },
  {
   "cell_type": "code",
   "execution_count": 18,
   "metadata": {},
   "outputs": [
    {
     "name": "stdout",
     "output_type": "stream",
     "text": [
      "Accuracy=0.4774\n"
     ]
    }
   ],
   "source": [
    "#Estimate the performance of the SVM linear model.\n",
    "ypre=gs_svc.predict(Xts)\n",
    "accuracy_svm=accuracy_score(Yts,ypre)\n",
    "print('Accuracy={}'.format(accuracy_svm))"
   ]
  },
  {
   "cell_type": "markdown",
   "metadata": {},
   "source": [
    "<font color='green'> <font size=2> **Selected model** </font> "
   ]
  },
  {
   "cell_type": "markdown",
   "metadata": {},
   "source": [
    "**We will select hereunder the best model to predict when the flight could make delay.**"
   ]
  },
  {
   "cell_type": "code",
   "execution_count": 19,
   "metadata": {},
   "outputs": [
    {
     "data": {
      "text/html": [
       "<div>\n",
       "<style scoped>\n",
       "    .dataframe tbody tr th:only-of-type {\n",
       "        vertical-align: middle;\n",
       "    }\n",
       "\n",
       "    .dataframe tbody tr th {\n",
       "        vertical-align: top;\n",
       "    }\n",
       "\n",
       "    .dataframe thead th {\n",
       "        text-align: right;\n",
       "    }\n",
       "</style>\n",
       "<table border=\"1\" class=\"dataframe\">\n",
       "  <thead>\n",
       "    <tr style=\"text-align: right;\">\n",
       "      <th></th>\n",
       "      <th>KNN</th>\n",
       "      <th>Logistic</th>\n",
       "      <th>SVM</th>\n",
       "    </tr>\n",
       "  </thead>\n",
       "  <tbody>\n",
       "    <tr>\n",
       "      <th>roc_auc</th>\n",
       "      <td>0.551778</td>\n",
       "      <td>0.543457</td>\n",
       "      <td>-</td>\n",
       "    </tr>\n",
       "    <tr>\n",
       "      <th>Accuracy</th>\n",
       "      <td>0.627400</td>\n",
       "      <td>0.665800</td>\n",
       "      <td>0.4774</td>\n",
       "    </tr>\n",
       "  </tbody>\n",
       "</table>\n",
       "</div>"
      ],
      "text/plain": [
       "               KNN  Logistic     SVM\n",
       "roc_auc   0.551778  0.543457       -\n",
       "Accuracy  0.627400  0.665800  0.4774"
      ]
     },
     "execution_count": 19,
     "metadata": {},
     "output_type": "execute_result"
    }
   ],
   "source": [
    "#Performance table for each tested model.\n",
    "perf_table=pd.DataFrame({'KNN':[roc_auc_knn,accuracy_knn],'Logistic':[roc_auc_logistic,accuracy_logistic],'SVM':['-',accuracy_svm]},index=['roc_auc','Accuracy'])\n",
    "perf_table"
   ]
  },
  {
   "cell_type": "markdown",
   "metadata": {},
   "source": [
    "<font color='Citron'>**We find that the tested models have a comprables performances.So we will select the Logistic model which has the advantage to be explicit.**</font> \n"
   ]
  },
  {
   "cell_type": "code",
   "execution_count": 20,
   "metadata": {},
   "outputs": [
    {
     "data": {
      "text/plain": [
       "LogisticRegression(C=1000, class_weight=None, dual=False, fit_intercept=True,\n",
       "          intercept_scaling=1, max_iter=100, multi_class='ovr', n_jobs=1,\n",
       "          penalty='l1', random_state=None, solver='liblinear', tol=0.0001,\n",
       "          verbose=0, warm_start=False)"
      ]
     },
     "execution_count": 20,
     "metadata": {},
     "output_type": "execute_result"
    }
   ],
   "source": [
    "#We will use our dataset to train the selected model.\n",
    "lc=LogisticRegression(penalty='l1',C=1000)\n",
    "lc.fit(Xtr,Ytr)"
   ]
  },
  {
   "cell_type": "code",
   "execution_count": 21,
   "metadata": {},
   "outputs": [
    {
     "data": {
      "text/plain": [
       "array([[-1.84753004e-01,  7.20018585e-02,  8.08763945e-03,\n",
       "        -6.18683204e-03, -1.40164379e-04, -5.45300252e-05,\n",
       "        -3.82310267e-03,  5.10892453e-04,  6.55533829e-02,\n",
       "        -3.58581225e-01,  5.41446327e-01, -3.67588949e-01,\n",
       "        -2.60871362e-01,  3.70079841e-01,  4.44348310e-01,\n",
       "        -1.97958707e-01,  2.74757278e-04, -2.25975761e-01,\n",
       "        -1.37104763e-01,  1.03621569e-01,  4.35786830e-06,\n",
       "         7.71042994e-07]])"
      ]
     },
     "execution_count": 21,
     "metadata": {},
     "output_type": "execute_result"
    }
   ],
   "source": [
    "# Determinate the coefficients of our model.\n",
    "coef=lc.coef_\n",
    "coef"
   ]
  },
  {
   "cell_type": "code",
   "execution_count": 22,
   "metadata": {},
   "outputs": [],
   "source": [
    "intercpt=lc.intercept_"
   ]
  },
  {
   "cell_type": "code",
   "execution_count": 23,
   "metadata": {},
   "outputs": [
    {
     "data": {
      "text/html": [
       "<div>\n",
       "<style scoped>\n",
       "    .dataframe tbody tr th:only-of-type {\n",
       "        vertical-align: middle;\n",
       "    }\n",
       "\n",
       "    .dataframe tbody tr th {\n",
       "        vertical-align: top;\n",
       "    }\n",
       "\n",
       "    .dataframe thead th {\n",
       "        text-align: right;\n",
       "    }\n",
       "</style>\n",
       "<table border=\"1\" class=\"dataframe\">\n",
       "  <thead>\n",
       "    <tr style=\"text-align: right;\">\n",
       "      <th></th>\n",
       "      <th>features</th>\n",
       "      <th>origin_coef</th>\n",
       "    </tr>\n",
       "  </thead>\n",
       "  <tbody>\n",
       "    <tr>\n",
       "      <th>200</th>\n",
       "      <td>intercpt</td>\n",
       "      <td>-5.028389e-01</td>\n",
       "    </tr>\n",
       "    <tr>\n",
       "      <th>0</th>\n",
       "      <td>QUARTER</td>\n",
       "      <td>-1.847530e-01</td>\n",
       "    </tr>\n",
       "    <tr>\n",
       "      <th>1</th>\n",
       "      <td>MONTH</td>\n",
       "      <td>7.200186e-02</td>\n",
       "    </tr>\n",
       "    <tr>\n",
       "      <th>2</th>\n",
       "      <td>DAY_OF_MONTH</td>\n",
       "      <td>8.087639e-03</td>\n",
       "    </tr>\n",
       "    <tr>\n",
       "      <th>3</th>\n",
       "      <td>DAY_OF_WEEK</td>\n",
       "      <td>-6.186832e-03</td>\n",
       "    </tr>\n",
       "    <tr>\n",
       "      <th>4</th>\n",
       "      <td>CRS_DEP_TIME</td>\n",
       "      <td>-1.401644e-04</td>\n",
       "    </tr>\n",
       "    <tr>\n",
       "      <th>5</th>\n",
       "      <td>CRS_ARR_TIME</td>\n",
       "      <td>-5.453003e-05</td>\n",
       "    </tr>\n",
       "    <tr>\n",
       "      <th>6</th>\n",
       "      <td>CRS_ELAPSED_TIME</td>\n",
       "      <td>-3.823103e-03</td>\n",
       "    </tr>\n",
       "    <tr>\n",
       "      <th>7</th>\n",
       "      <td>DISTANCE</td>\n",
       "      <td>5.108925e-04</td>\n",
       "    </tr>\n",
       "    <tr>\n",
       "      <th>8</th>\n",
       "      <td>AA</td>\n",
       "      <td>6.555338e-02</td>\n",
       "    </tr>\n",
       "    <tr>\n",
       "      <th>9</th>\n",
       "      <td>AS</td>\n",
       "      <td>-3.585812e-01</td>\n",
       "    </tr>\n",
       "    <tr>\n",
       "      <th>10</th>\n",
       "      <td>B6</td>\n",
       "      <td>5.414463e-01</td>\n",
       "    </tr>\n",
       "    <tr>\n",
       "      <th>11</th>\n",
       "      <td>DL</td>\n",
       "      <td>-3.675889e-01</td>\n",
       "    </tr>\n",
       "    <tr>\n",
       "      <th>12</th>\n",
       "      <td>F9</td>\n",
       "      <td>-2.608714e-01</td>\n",
       "    </tr>\n",
       "    <tr>\n",
       "      <th>13</th>\n",
       "      <td>HA</td>\n",
       "      <td>3.700798e-01</td>\n",
       "    </tr>\n",
       "    <tr>\n",
       "      <th>14</th>\n",
       "      <td>NK</td>\n",
       "      <td>4.443483e-01</td>\n",
       "    </tr>\n",
       "    <tr>\n",
       "      <th>15</th>\n",
       "      <td>EV</td>\n",
       "      <td>-1.979587e-01</td>\n",
       "    </tr>\n",
       "    <tr>\n",
       "      <th>16</th>\n",
       "      <td>OO</td>\n",
       "      <td>2.747573e-04</td>\n",
       "    </tr>\n",
       "    <tr>\n",
       "      <th>17</th>\n",
       "      <td>UA</td>\n",
       "      <td>-2.259758e-01</td>\n",
       "    </tr>\n",
       "    <tr>\n",
       "      <th>18</th>\n",
       "      <td>VX</td>\n",
       "      <td>-1.371048e-01</td>\n",
       "    </tr>\n",
       "    <tr>\n",
       "      <th>19</th>\n",
       "      <td>WN</td>\n",
       "      <td>1.036216e-01</td>\n",
       "    </tr>\n",
       "    <tr>\n",
       "      <th>20</th>\n",
       "      <td>risque_or_aeroport</td>\n",
       "      <td>4.357868e-06</td>\n",
       "    </tr>\n",
       "    <tr>\n",
       "      <th>21</th>\n",
       "      <td>risque_des_aeroport</td>\n",
       "      <td>7.710430e-07</td>\n",
       "    </tr>\n",
       "  </tbody>\n",
       "</table>\n",
       "</div>"
      ],
      "text/plain": [
       "                features   origin_coef\n",
       "200             intercpt -5.028389e-01\n",
       "0                QUARTER -1.847530e-01\n",
       "1                  MONTH  7.200186e-02\n",
       "2           DAY_OF_MONTH  8.087639e-03\n",
       "3            DAY_OF_WEEK -6.186832e-03\n",
       "4           CRS_DEP_TIME -1.401644e-04\n",
       "5           CRS_ARR_TIME -5.453003e-05\n",
       "6       CRS_ELAPSED_TIME -3.823103e-03\n",
       "7               DISTANCE  5.108925e-04\n",
       "8                     AA  6.555338e-02\n",
       "9                     AS -3.585812e-01\n",
       "10                    B6  5.414463e-01\n",
       "11                    DL -3.675889e-01\n",
       "12                    F9 -2.608714e-01\n",
       "13                    HA  3.700798e-01\n",
       "14                    NK  4.443483e-01\n",
       "15                    EV -1.979587e-01\n",
       "16                    OO  2.747573e-04\n",
       "17                    UA -2.259758e-01\n",
       "18                    VX -1.371048e-01\n",
       "19                    WN  1.036216e-01\n",
       "20    risque_or_aeroport  4.357868e-06\n",
       "21   risque_des_aeroport  7.710430e-07"
      ]
     },
     "execution_count": 23,
     "metadata": {},
     "output_type": "execute_result"
    }
   ],
   "source": [
    "#Display coeficient of logistic regression model.\n",
    "coeficien_log_model=pd.DataFrame({'features':data.columns[:-2],'origin_coef':coef[0]})\n",
    "coeficien_log_model=pd.concat([pd.DataFrame({'features':'intercpt','origin_coef':intercpt},index=[200]),coeficien_log_model])\n",
    "coeficien_log_model"
   ]
  },
  {
   "cell_type": "markdown",
   "metadata": {},
   "source": [
    "$                                   P(LATENESS=1)=\\frac{1}{1+\\exp({{eq\\_lin}})}   $"
   ]
  },
  {
   "cell_type": "markdown",
   "metadata": {},
   "source": [
    "# Predict delay time "
   ]
  },
  {
   "cell_type": "markdown",
   "metadata": {},
   "source": [
    "**We will try to define the best model which can predict the delay time of a flight if it will make delay.**"
   ]
  },
  {
   "cell_type": "markdown",
   "metadata": {},
   "source": [
    "<font color='blue'><font size=3>**Splitting data**</font>"
   ]
  },
  {
   "cell_type": "code",
   "execution_count": 24,
   "metadata": {},
   "outputs": [],
   "source": [
    "Ytr=df[indx_train,-1]   # training data labels.\n",
    "Yts=df[indx_test,-1]  # test data labels."
   ]
  },
  {
   "cell_type": "markdown",
   "metadata": {},
   "source": [
    "<font color='blue'><font size=3> ** Test differents models **</font>"
   ]
  },
  {
   "cell_type": "markdown",
   "metadata": {},
   "source": [
    "<font color='green'><font size=2>** Linear regression model**</font>"
   ]
  },
  {
   "cell_type": "code",
   "execution_count": 25,
   "metadata": {},
   "outputs": [
    {
     "data": {
      "text/plain": [
       "LinearRegression(copy_X=True, fit_intercept=True, n_jobs=1, normalize=False)"
      ]
     },
     "execution_count": 25,
     "metadata": {},
     "output_type": "execute_result"
    }
   ],
   "source": [
    "lr=LinearRegression()\n",
    "lr.fit(Xtr,Ytr)"
   ]
  },
  {
   "cell_type": "code",
   "execution_count": 26,
   "metadata": {},
   "outputs": [],
   "source": [
    "yprd=lr.predict(Xts)"
   ]
  },
  {
   "cell_type": "code",
   "execution_count": 27,
   "metadata": {},
   "outputs": [],
   "source": [
    "lr_squared_error=sqrt(mean_squared_error(Yts,yprd)) # compute mean squared error."
   ]
  },
  {
   "cell_type": "code",
   "execution_count": 28,
   "metadata": {},
   "outputs": [
    {
     "name": "stdout",
     "output_type": "stream",
     "text": [
      "The mean squared error of the linear regression model equal to : 38.64505972522755\n"
     ]
    }
   ],
   "source": [
    "print('The mean squared error of the linear regression model equal to : {}'.format(lr_squared_error))"
   ]
  },
  {
   "cell_type": "markdown",
   "metadata": {},
   "source": [
    "<font color='green'> <font size=2> ** Ridge Model** </font>"
   ]
  },
  {
   "cell_type": "code",
   "execution_count": 29,
   "metadata": {},
   "outputs": [
    {
     "data": {
      "text/plain": [
       "GridSearchCV(cv=10, error_score='raise',\n",
       "       estimator=Ridge(alpha=1.0, copy_X=True, fit_intercept=True, max_iter=None,\n",
       "   normalize=False, random_state=None, solver='auto', tol=0.001),\n",
       "       fit_params=None, iid=True, n_jobs=1,\n",
       "       param_grid={'alpha': array([1.e-03, 1.e-02, 1.e-01, 1.e+00, 1.e+01, 1.e+02, 1.e+03])},\n",
       "       pre_dispatch='2*n_jobs', refit=True, return_train_score='warn',\n",
       "       scoring=None, verbose=0)"
      ]
     },
     "execution_count": 29,
     "metadata": {},
     "output_type": "execute_result"
    }
   ],
   "source": [
    "lR=Ridge()\n",
    "params={'alpha':np.logspace(-3,3,7)}\n",
    "gs_lR=GridSearchCV(lR,params,cv=10)\n",
    "gs_lR.fit(Xtr,Ytr)"
   ]
  },
  {
   "cell_type": "code",
   "execution_count": 30,
   "metadata": {},
   "outputs": [
    {
     "name": "stdout",
     "output_type": "stream",
     "text": [
      "{'alpha': 100.0}\n"
     ]
    }
   ],
   "source": [
    "#The best hyperparametr of the Ridge Model.\n",
    "C_ridge=1/gs_lR.best_params_['alpha']\n",
    "print(gs_lR.best_params_)"
   ]
  },
  {
   "cell_type": "code",
   "execution_count": 31,
   "metadata": {},
   "outputs": [],
   "source": [
    "yprd=gs_lR.predict(Xts)"
   ]
  },
  {
   "cell_type": "code",
   "execution_count": 32,
   "metadata": {},
   "outputs": [],
   "source": [
    "lR_squared_error=sqrt(mean_squared_error(Yts,ypr))#compute mean squared error."
   ]
  },
  {
   "cell_type": "code",
   "execution_count": 33,
   "metadata": {},
   "outputs": [
    {
     "name": "stdout",
     "output_type": "stream",
     "text": [
      "The mean squared error of the ridge regression equal to :38.96938541983951\n"
     ]
    }
   ],
   "source": [
    "print('The mean squared error of the ridge regression equal to :{}'.format(lR_squared_error))"
   ]
  },
  {
   "cell_type": "markdown",
   "metadata": {},
   "source": [
    "<font color='green'><font size=2> ** Lasso Model ** </font>"
   ]
  },
  {
   "cell_type": "code",
   "execution_count": 34,
   "metadata": {},
   "outputs": [
    {
     "data": {
      "text/plain": [
       "GridSearchCV(cv=10, error_score='raise',\n",
       "       estimator=Lasso(alpha=1.0, copy_X=True, fit_intercept=True, max_iter=1000,\n",
       "   normalize=False, positive=False, precompute=False, random_state=None,\n",
       "   selection='cyclic', tol=0.0001, warm_start=False),\n",
       "       fit_params=None, iid=True, n_jobs=1,\n",
       "       param_grid={'alpha': array([1.e-03, 1.e-02, 1.e-01, 1.e+00, 1.e+01, 1.e+02, 1.e+03])},\n",
       "       pre_dispatch='2*n_jobs', refit=True, return_train_score='warn',\n",
       "       scoring=None, verbose=0)"
      ]
     },
     "execution_count": 34,
     "metadata": {},
     "output_type": "execute_result"
    }
   ],
   "source": [
    "ll=Lasso()\n",
    "params={'alpha':np.logspace(-3,3,7)}\n",
    "gs_ll=GridSearchCV(ll,params,cv=10)\n",
    "gs_ll.fit(Xtr,Ytr)"
   ]
  },
  {
   "cell_type": "code",
   "execution_count": 35,
   "metadata": {},
   "outputs": [
    {
     "name": "stdout",
     "output_type": "stream",
     "text": [
      "{'alpha': 0.01}\n"
     ]
    }
   ],
   "source": [
    "#The best hyperparametr of the lasso model.\n",
    "C_lasso=1/gs_ll.best_params_['alpha']\n",
    "print(gs_ll.best_params_)"
   ]
  },
  {
   "cell_type": "code",
   "execution_count": 36,
   "metadata": {},
   "outputs": [],
   "source": [
    "ypr=gs_ll.predict(Xts)"
   ]
  },
  {
   "cell_type": "code",
   "execution_count": 37,
   "metadata": {},
   "outputs": [],
   "source": [
    "ll_squared_error=sqrt(mean_squared_error(Yts,ypr)) # compute mean squared error."
   ]
  },
  {
   "cell_type": "code",
   "execution_count": 38,
   "metadata": {},
   "outputs": [
    {
     "name": "stdout",
     "output_type": "stream",
     "text": [
      "The mean squared error of the Lasso regression equal to :38.64082535227021\n"
     ]
    }
   ],
   "source": [
    "print('The mean squared error of the Lasso regression equal to :{}'.format(ll_squared_error))"
   ]
  },
  {
   "cell_type": "markdown",
   "metadata": {},
   "source": [
    "<font color='green'><font size=2> ** Selected model ** </font>"
   ]
  },
  {
   "cell_type": "markdown",
   "metadata": {},
   "source": [
    "**We will select hereunder the best model can predict the delay time of a flight.**"
   ]
  },
  {
   "cell_type": "code",
   "execution_count": 39,
   "metadata": {},
   "outputs": [
    {
     "data": {
      "text/html": [
       "<div>\n",
       "<style scoped>\n",
       "    .dataframe tbody tr th:only-of-type {\n",
       "        vertical-align: middle;\n",
       "    }\n",
       "\n",
       "    .dataframe tbody tr th {\n",
       "        vertical-align: top;\n",
       "    }\n",
       "\n",
       "    .dataframe thead th {\n",
       "        text-align: right;\n",
       "    }\n",
       "</style>\n",
       "<table border=\"1\" class=\"dataframe\">\n",
       "  <thead>\n",
       "    <tr style=\"text-align: right;\">\n",
       "      <th></th>\n",
       "      <th>baseline regression model</th>\n",
       "      <th>Ridge model</th>\n",
       "      <th>Lasso model</th>\n",
       "    </tr>\n",
       "  </thead>\n",
       "  <tbody>\n",
       "    <tr>\n",
       "      <th>squared_error</th>\n",
       "      <td>38.64506</td>\n",
       "      <td>38.969385</td>\n",
       "      <td>38.640825</td>\n",
       "    </tr>\n",
       "    <tr>\n",
       "      <th>C</th>\n",
       "      <td>0.00000</td>\n",
       "      <td>0.010000</td>\n",
       "      <td>100.000000</td>\n",
       "    </tr>\n",
       "  </tbody>\n",
       "</table>\n",
       "</div>"
      ],
      "text/plain": [
       "               baseline regression model  Ridge model  Lasso model\n",
       "squared_error                   38.64506    38.969385    38.640825\n",
       "C                                0.00000     0.010000   100.000000"
      ]
     },
     "execution_count": 39,
     "metadata": {},
     "output_type": "execute_result"
    }
   ],
   "source": [
    "#Performance table for each tested model.\n",
    "perf_table=pd.DataFrame({'baseline regression model':[lr_squared_error,0],'Ridge model':[lR_squared_error,C_ridge],'Lasso model':[ll_squared_error,C_lasso]},index=['squared_error','C'])\n",
    "perf_table"
   ]
  },
  {
   "cell_type": "markdown",
   "metadata": {},
   "source": [
    "<font color='Citron'> ** We find that all models have barely same squared_error.We will opt for Lasso model which has slightly best squared_error and a high coefficient for regularization. We will choice this model to avoid the overfitting of the training data set.**</font>"
   ]
  },
  {
   "cell_type": "code",
   "execution_count": 40,
   "metadata": {},
   "outputs": [
    {
     "data": {
      "text/plain": [
       "Lasso(alpha=0.1, copy_X=True, fit_intercept=True, max_iter=1000,\n",
       "   normalize=False, positive=False, precompute=False, random_state=None,\n",
       "   selection='cyclic', tol=0.0001, warm_start=False)"
      ]
     },
     "execution_count": 40,
     "metadata": {},
     "output_type": "execute_result"
    }
   ],
   "source": [
    "ll=Lasso(alpha=0.1)\n",
    "ll.fit(Xtr,Ytr)"
   ]
  },
  {
   "cell_type": "code",
   "execution_count": 41,
   "metadata": {},
   "outputs": [],
   "source": [
    "#determinate the coefficients of the Ridge regression model.\n",
    "coeficients=ll.coef_\n",
    "constant=ll.intercept_"
   ]
  },
  {
   "cell_type": "code",
   "execution_count": 42,
   "metadata": {},
   "outputs": [
    {
     "data": {
      "text/plain": [
       "array([-1.49204355e+00,  5.69096364e-01,  7.25263186e-02, -0.00000000e+00,\n",
       "       -1.92785683e-03, -8.30615666e-04, -7.06993979e-02,  7.31482979e-03,\n",
       "        1.49200684e+00, -2.10395064e+00,  6.68364605e+00, -4.83318109e+00,\n",
       "       -1.02558455e+00, -0.00000000e+00,  6.77508987e+00, -0.00000000e+00,\n",
       "        1.85155065e-01, -0.00000000e+00,  0.00000000e+00,  1.23029875e-01,\n",
       "        5.02378509e-05,  2.81849672e-05])"
      ]
     },
     "execution_count": 42,
     "metadata": {},
     "output_type": "execute_result"
    }
   ],
   "source": [
    "coeficients"
   ]
  },
  {
   "cell_type": "code",
   "execution_count": 43,
   "metadata": {},
   "outputs": [
    {
     "data": {
      "text/html": [
       "<div>\n",
       "<style scoped>\n",
       "    .dataframe tbody tr th:only-of-type {\n",
       "        vertical-align: middle;\n",
       "    }\n",
       "\n",
       "    .dataframe tbody tr th {\n",
       "        vertical-align: top;\n",
       "    }\n",
       "\n",
       "    .dataframe thead th {\n",
       "        text-align: right;\n",
       "    }\n",
       "</style>\n",
       "<table border=\"1\" class=\"dataframe\">\n",
       "  <thead>\n",
       "    <tr style=\"text-align: right;\">\n",
       "      <th></th>\n",
       "      <th>Features</th>\n",
       "      <th>coef</th>\n",
       "    </tr>\n",
       "  </thead>\n",
       "  <tbody>\n",
       "    <tr>\n",
       "      <th>0</th>\n",
       "      <td>QUARTER</td>\n",
       "      <td>-1.492044</td>\n",
       "    </tr>\n",
       "    <tr>\n",
       "      <th>1</th>\n",
       "      <td>MONTH</td>\n",
       "      <td>0.569096</td>\n",
       "    </tr>\n",
       "    <tr>\n",
       "      <th>2</th>\n",
       "      <td>DAY_OF_MONTH</td>\n",
       "      <td>0.072526</td>\n",
       "    </tr>\n",
       "    <tr>\n",
       "      <th>3</th>\n",
       "      <td>DAY_OF_WEEK</td>\n",
       "      <td>-0.000000</td>\n",
       "    </tr>\n",
       "    <tr>\n",
       "      <th>4</th>\n",
       "      <td>CRS_DEP_TIME</td>\n",
       "      <td>-0.001928</td>\n",
       "    </tr>\n",
       "    <tr>\n",
       "      <th>5</th>\n",
       "      <td>CRS_ARR_TIME</td>\n",
       "      <td>-0.000831</td>\n",
       "    </tr>\n",
       "    <tr>\n",
       "      <th>6</th>\n",
       "      <td>CRS_ELAPSED_TIME</td>\n",
       "      <td>-0.070699</td>\n",
       "    </tr>\n",
       "    <tr>\n",
       "      <th>7</th>\n",
       "      <td>DISTANCE</td>\n",
       "      <td>0.007315</td>\n",
       "    </tr>\n",
       "    <tr>\n",
       "      <th>8</th>\n",
       "      <td>AA</td>\n",
       "      <td>1.492007</td>\n",
       "    </tr>\n",
       "    <tr>\n",
       "      <th>9</th>\n",
       "      <td>AS</td>\n",
       "      <td>-2.103951</td>\n",
       "    </tr>\n",
       "    <tr>\n",
       "      <th>10</th>\n",
       "      <td>B6</td>\n",
       "      <td>6.683646</td>\n",
       "    </tr>\n",
       "    <tr>\n",
       "      <th>11</th>\n",
       "      <td>DL</td>\n",
       "      <td>-4.833181</td>\n",
       "    </tr>\n",
       "    <tr>\n",
       "      <th>12</th>\n",
       "      <td>F9</td>\n",
       "      <td>-1.025585</td>\n",
       "    </tr>\n",
       "    <tr>\n",
       "      <th>13</th>\n",
       "      <td>HA</td>\n",
       "      <td>-0.000000</td>\n",
       "    </tr>\n",
       "    <tr>\n",
       "      <th>14</th>\n",
       "      <td>NK</td>\n",
       "      <td>6.775090</td>\n",
       "    </tr>\n",
       "    <tr>\n",
       "      <th>15</th>\n",
       "      <td>EV</td>\n",
       "      <td>-0.000000</td>\n",
       "    </tr>\n",
       "    <tr>\n",
       "      <th>16</th>\n",
       "      <td>OO</td>\n",
       "      <td>0.185155</td>\n",
       "    </tr>\n",
       "    <tr>\n",
       "      <th>17</th>\n",
       "      <td>UA</td>\n",
       "      <td>-0.000000</td>\n",
       "    </tr>\n",
       "    <tr>\n",
       "      <th>18</th>\n",
       "      <td>VX</td>\n",
       "      <td>0.000000</td>\n",
       "    </tr>\n",
       "    <tr>\n",
       "      <th>19</th>\n",
       "      <td>WN</td>\n",
       "      <td>0.123030</td>\n",
       "    </tr>\n",
       "    <tr>\n",
       "      <th>20</th>\n",
       "      <td>risque_or_aeroport</td>\n",
       "      <td>0.000050</td>\n",
       "    </tr>\n",
       "    <tr>\n",
       "      <th>21</th>\n",
       "      <td>risque_des_aeroport</td>\n",
       "      <td>0.000028</td>\n",
       "    </tr>\n",
       "    <tr>\n",
       "      <th>200</th>\n",
       "      <td>intercept</td>\n",
       "      <td>7.606921</td>\n",
       "    </tr>\n",
       "  </tbody>\n",
       "</table>\n",
       "</div>"
      ],
      "text/plain": [
       "                Features      coef\n",
       "0                QUARTER -1.492044\n",
       "1                  MONTH  0.569096\n",
       "2           DAY_OF_MONTH  0.072526\n",
       "3            DAY_OF_WEEK -0.000000\n",
       "4           CRS_DEP_TIME -0.001928\n",
       "5           CRS_ARR_TIME -0.000831\n",
       "6       CRS_ELAPSED_TIME -0.070699\n",
       "7               DISTANCE  0.007315\n",
       "8                     AA  1.492007\n",
       "9                     AS -2.103951\n",
       "10                    B6  6.683646\n",
       "11                    DL -4.833181\n",
       "12                    F9 -1.025585\n",
       "13                    HA -0.000000\n",
       "14                    NK  6.775090\n",
       "15                    EV -0.000000\n",
       "16                    OO  0.185155\n",
       "17                    UA -0.000000\n",
       "18                    VX  0.000000\n",
       "19                    WN  0.123030\n",
       "20    risque_or_aeroport  0.000050\n",
       "21   risque_des_aeroport  0.000028\n",
       "200            intercept  7.606921"
      ]
     },
     "execution_count": 43,
     "metadata": {},
     "output_type": "execute_result"
    }
   ],
   "source": [
    "#display the coefficient to respectives features for the baseline model\n",
    "coef_base_model=pd.DataFrame({'Features':data.columns[:-2],'coef':coeficients})\n",
    "coef_base_model=pd.concat([coef_base_model,pd.DataFrame({'Features':'intercept','coef':constant},index=[200])])\n",
    "coef_base_model"
   ]
  },
  {
   "cell_type": "code",
   "execution_count": 44,
   "metadata": {},
   "outputs": [],
   "source": [
    "from numpy import linalg as ln "
   ]
  },
  {
   "cell_type": "code",
   "execution_count": 45,
   "metadata": {},
   "outputs": [],
   "source": [
    "r=coeficients"
   ]
  },
  {
   "cell_type": "code",
   "execution_count": 47,
   "metadata": {},
   "outputs": [],
   "source": [
    "r=np.append(r,constant)"
   ]
  },
  {
   "cell_type": "code",
   "execution_count": 48,
   "metadata": {},
   "outputs": [
    {
     "data": {
      "text/plain": [
       "array([-1.49204355e+00,  5.69096364e-01,  7.25263186e-02, -0.00000000e+00,\n",
       "       -1.92785683e-03, -8.30615666e-04, -7.06993979e-02,  7.31482979e-03,\n",
       "        1.49200684e+00, -2.10395064e+00,  6.68364605e+00, -4.83318109e+00,\n",
       "       -1.02558455e+00, -0.00000000e+00,  6.77508987e+00, -0.00000000e+00,\n",
       "        1.85155065e-01, -0.00000000e+00,  0.00000000e+00,  1.23029875e-01,\n",
       "        5.02378509e-05,  2.81849672e-05,  7.60692056e+00])"
      ]
     },
     "execution_count": 48,
     "metadata": {},
     "output_type": "execute_result"
    }
   ],
   "source": [
    "r"
   ]
  },
  {
   "cell_type": "code",
   "execution_count": 49,
   "metadata": {},
   "outputs": [
    {
     "data": {
      "text/plain": [
       "33.04308190417869"
      ]
     },
     "execution_count": 49,
     "metadata": {},
     "output_type": "execute_result"
    }
   ],
   "source": [
    "ln.norm(r,1)"
   ]
  },
  {
   "cell_type": "code",
   "execution_count": null,
   "metadata": {},
   "outputs": [],
   "source": []
  }
 ],
 "metadata": {
  "kernelspec": {
   "display_name": "Python 3",
   "language": "python",
   "name": "python3"
  },
  "language_info": {
   "codemirror_mode": {
    "name": "ipython",
    "version": 3
   },
   "file_extension": ".py",
   "mimetype": "text/x-python",
   "name": "python",
   "nbconvert_exporter": "python",
   "pygments_lexer": "ipython3",
   "version": "3.6.5"
  }
 },
 "nbformat": 4,
 "nbformat_minor": 2
}
