{
 "cells": [
  {
   "cell_type": "markdown",
   "metadata": {},
   "source": [
    "<font color='b'> <font size=5> ** Introduction ** </font>  \n",
    "<font color='b'> <font size=2>\n",
    " -The data were collected from differents airlines companies and obtained from https://www.transtats.bts.gov/. Theses data had been provided in order to eveluate performances of the differents availables airlines companies. We will use it to define model can allow us to predict the lateness from the provided variables.   \n",
    " -Cleaning data.  \n",
    " -Features engenering.  \n",
    " -Correlation between features.   \n",
    " -Independance between qualitative variables with flight delay.</font>"
   ]
  },
  {
   "cell_type": "markdown",
   "metadata": {},
   "source": [
    "<img src=\"https://www.ritardoaereo.com/images/layout/logo_en.png\"/>"
   ]
  },
  {
   "cell_type": "markdown",
   "metadata": {},
   "source": [
    "# Importing Librairies"
   ]
  },
  {
   "cell_type": "code",
   "execution_count": 1,
   "metadata": {},
   "outputs": [],
   "source": [
    "import numpy as np\n",
    "import matplotlib.pyplot as plt \n",
    "import pandas as pd\n",
    "from math import *\n",
    "from sklearn.preprocessing import LabelEncoder\n",
    "import seaborn as sns "
   ]
  },
  {
   "cell_type": "markdown",
   "metadata": {},
   "source": [
    "# Importing data"
   ]
  },
  {
   "cell_type": "markdown",
   "metadata": {},
   "source": [
    "The data that we will use,seem too large. Their importation with the whole columns can affect the performance of our machine. So we will present preliminarly list of uselless columns that we will get red of them in order to alleviate data."
   ]
  },
  {
   "cell_type": "code",
   "execution_count": 2,
   "metadata": {},
   "outputs": [],
   "source": [
    "col_inutiles=['YEAR','FL_DATE','TAIL_NUM','FL_NUM','ORIGIN_WAC','ORIGIN_AIRPORT_SEQ_ID','UNIQUE_CARRIER','AIRLINE_ID',\\\n",
    "              'ORIGIN_CITY_MARKET_ID','ORIGIN_CITY_NAME','ORIGIN_STATE_ABR','ORIGIN_STATE_FIPS','ORIGIN_STATE_NM',\\\n",
    "              'DEST_AIRPORT_ID','DEST_AIRPORT_SEQ_ID','DEST_CITY_MARKET_ID','DEST_CITY_NAME','DEST_STATE_ABR',\\\n",
    "              'DEST_STATE_FIPS','DEST_STATE_NM','CANCELLATION_CODE','DEST_WAC','FLIGHTS','Unnamed: 64','ORIGIN_AIRPORT_ID']\n",
    "\n",
    "#list of columns that we judge useless to predict the lateness of flights."
   ]
  },
  {
   "cell_type": "code",
   "execution_count": 3,
   "metadata": {},
   "outputs": [
    {
     "name": "stderr",
     "output_type": "stream",
     "text": [
      "/home/taher/anaconda3/lib/python3.6/site-packages/IPython/core/interactiveshell.py:2785: DtypeWarning: Columns (48) have mixed types. Specify dtype option on import or set low_memory=False.\n",
      "  interactivity=interactivity, compiler=compiler, result=result)\n",
      "b'Skipping line 121012: expected 65 fields, saw 75\\n'\n",
      "b'Skipping line 386249: expected 65 fields, saw 83\\nSkipping line 388291: expected 65 fields, saw 78\\nSkipping line 389371: expected 65 fields, saw 72\\nSkipping line 389548: expected 65 fields, saw 81\\n'\n",
      "b'Skipping line 453858: expected 65 fields, saw 97\\n'\n",
      "/home/taher/anaconda3/lib/python3.6/site-packages/IPython/core/interactiveshell.py:2785: DtypeWarning: Columns (0,1,3,4,10,11,13,19,20,21,22,30,36,41,48) have mixed types. Specify dtype option on import or set low_memory=False.\n",
      "  interactivity=interactivity, compiler=compiler, result=result)\n"
     ]
    }
   ],
   "source": [
    "dt=[] # list of the monthly data \n",
    "for i in range(1,13):\n",
    "    if i<10:\n",
    "       fich='data/2016_0{}.csv'.format(i) \n",
    "    else:\n",
    "       fich='data/2016_{}.csv'.format(i)\n",
    "    \n",
    "    l=pd.read_csv(fich,sep=',',error_bad_lines=False)\n",
    "    for c in col_inutiles: # delete preliminarly useless columns.\n",
    "        del(l[c])\n",
    "    dt.append(l)"
   ]
  },
  {
   "cell_type": "markdown",
   "metadata": {},
   "source": [
    "# Data preparation "
   ]
  },
  {
   "cell_type": "markdown",
   "metadata": {},
   "source": [
    "<font color='blue'> <font size=3> ** Missing values ** </font>"
   ]
  },
  {
   "cell_type": "code",
   "execution_count": 4,
   "metadata": {},
   "outputs": [],
   "source": [
    "tab_missing_values=pd.DataFrame({c:sum([dt[i][c].isna().sum() for i in range(12)]) for c in dt[0].columns},index=['missing values'])\n",
    "#number of missing values for each column."
   ]
  },
  {
   "cell_type": "code",
   "execution_count": 5,
   "metadata": {},
   "outputs": [
    {
     "data": {
      "text/html": [
       "<div>\n",
       "<style scoped>\n",
       "    .dataframe tbody tr th:only-of-type {\n",
       "        vertical-align: middle;\n",
       "    }\n",
       "\n",
       "    .dataframe tbody tr th {\n",
       "        vertical-align: top;\n",
       "    }\n",
       "\n",
       "    .dataframe thead th {\n",
       "        text-align: right;\n",
       "    }\n",
       "</style>\n",
       "<table border=\"1\" class=\"dataframe\">\n",
       "  <thead>\n",
       "    <tr style=\"text-align: right;\">\n",
       "      <th></th>\n",
       "      <th>QUARTER</th>\n",
       "      <th>MONTH</th>\n",
       "      <th>DAY_OF_MONTH</th>\n",
       "      <th>DAY_OF_WEEK</th>\n",
       "      <th>CARRIER</th>\n",
       "      <th>ORIGIN</th>\n",
       "      <th>DEST</th>\n",
       "      <th>CRS_DEP_TIME</th>\n",
       "      <th>DEP_TIME</th>\n",
       "      <th>DEP_DELAY</th>\n",
       "      <th>...</th>\n",
       "      <th>DISTANCE</th>\n",
       "      <th>DISTANCE_GROUP</th>\n",
       "      <th>CARRIER_DELAY</th>\n",
       "      <th>WEATHER_DELAY</th>\n",
       "      <th>NAS_DELAY</th>\n",
       "      <th>SECURITY_DELAY</th>\n",
       "      <th>LATE_AIRCRAFT_DELAY</th>\n",
       "      <th>FIRST_DEP_TIME</th>\n",
       "      <th>TOTAL_ADD_GTIME</th>\n",
       "      <th>LONGEST_ADD_GTIME</th>\n",
       "    </tr>\n",
       "  </thead>\n",
       "  <tbody>\n",
       "    <tr>\n",
       "      <th>missing values</th>\n",
       "      <td>0</td>\n",
       "      <td>0</td>\n",
       "      <td>0</td>\n",
       "      <td>0</td>\n",
       "      <td>0</td>\n",
       "      <td>0</td>\n",
       "      <td>1</td>\n",
       "      <td>0</td>\n",
       "      <td>63538</td>\n",
       "      <td>63539</td>\n",
       "      <td>...</td>\n",
       "      <td>5</td>\n",
       "      <td>5</td>\n",
       "      <td>4667538</td>\n",
       "      <td>4667538</td>\n",
       "      <td>4667538</td>\n",
       "      <td>4667538</td>\n",
       "      <td>4667538</td>\n",
       "      <td>5601445</td>\n",
       "      <td>5601445</td>\n",
       "      <td>5601445</td>\n",
       "    </tr>\n",
       "  </tbody>\n",
       "</table>\n",
       "<p>1 rows × 40 columns</p>\n",
       "</div>"
      ],
      "text/plain": [
       "                QUARTER  MONTH  DAY_OF_MONTH  DAY_OF_WEEK  CARRIER  ORIGIN  \\\n",
       "missing values        0      0             0            0        0       0   \n",
       "\n",
       "                DEST  CRS_DEP_TIME  DEP_TIME  DEP_DELAY        ...          \\\n",
       "missing values     1             0     63538      63539        ...           \n",
       "\n",
       "                DISTANCE  DISTANCE_GROUP  CARRIER_DELAY  WEATHER_DELAY  \\\n",
       "missing values         5               5        4667538        4667538   \n",
       "\n",
       "                NAS_DELAY  SECURITY_DELAY  LATE_AIRCRAFT_DELAY  \\\n",
       "missing values    4667538         4667538              4667538   \n",
       "\n",
       "                FIRST_DEP_TIME  TOTAL_ADD_GTIME  LONGEST_ADD_GTIME  \n",
       "missing values         5601445          5601445            5601445  \n",
       "\n",
       "[1 rows x 40 columns]"
      ]
     },
     "execution_count": 5,
     "metadata": {},
     "output_type": "execute_result"
    }
   ],
   "source": [
    "tab_missing_values # display the missing values table"
   ]
  },
  {
   "cell_type": "code",
   "execution_count": 6,
   "metadata": {},
   "outputs": [],
   "source": [
    "# for the columns CARRIER_DELAY,WEATHER_DELAY,NAS_DELAY,SECURITY_DELAY and LATE_AIRCRAFT_DELAY,\n",
    "#the missing values mean the cause mentionned in the such column hadn't occur for the flight of the such row.\n",
    "#so we will replace them by zero.\n",
    "values={'CARRIER_DELAY':0,'WEATHER_DELAY':0,'NAS_DELAY':0,'SECURITY_DELAY':0,'LATE_AIRCRAFT_DELAY':0}\n",
    "for i in range(12):\n",
    "   dt[i]=dt[i].fillna(values)"
   ]
  },
  {
   "cell_type": "code",
   "execution_count": 7,
   "metadata": {},
   "outputs": [],
   "source": [
    "#for the missing values of the columns of departure performances. We will define function that can use the link \n",
    "# between these variables in order to replace one missing value when the the other values of equivalent columns\n",
    "# are available.\n",
    "def remp_dep(CRS_DEP_TIME,DEP_TIME,DEP_DELAY,DEP_DELAY_NEW,DEP_DEL15,DEP_DELAY_GROUP,DEP_TIME_BLK):\n",
    "    \"\"\"\"This function allow to determinate the exaxtly value of an missing value when equivalent values \n",
    "    are available.\"\"\"\n",
    "    if pd.isnull(DEP_TIME):\n",
    "        if not pd.isnull(DEP_DELAY):\n",
    "           DEP_TIME= CRS_DEP_TIME + DEP_DELAY\n",
    "        elif not pd.isnull(DEP_DELAY_NEW):\n",
    "            if DEP_DELAY_NEW > 0:\n",
    "               DEP_TIME= CRS_DEP_TIME + DEP_DELAY_NEW\n",
    "        elif not pd.isnull(DEP_TIME_BLK):\n",
    "           DEP_TIME= DEP_TIME_BLK[5:]\n",
    "    if pd.isnull(DEP_DELAY):\n",
    "        if not pd.isnull(DEP_TIME):\n",
    "           DEP_DELAY= int(DEP_TIME) - int(CRS_DEP_TIME)\n",
    "        elif not pd.isnull(DEP_DELAY_NEW):\n",
    "            if DEP_DELAY_NEW > 0:\n",
    "               DEP_DELAY= DEP_DELAY_NEW\n",
    "    if pd.isnull(DEP_DELAY_NEW):\n",
    "        if not pd.isnull(DEP_DELAY):\n",
    "            if DEP_DELAY > 0:\n",
    "               DEP_DELAY_NEW= DEP_DELAY\n",
    "            else:\n",
    "               DEP_DELAY_NEW=0\n",
    "    if pd.isnull(DEP_DEL15):\n",
    "        if not pd.isnull(DEP_DELAY_NEW):\n",
    "            DEP_DEL15= ceil(DEP_DELAY_NEW/15)\n",
    "            if DEP_DEL15 > 1:\n",
    "                DEP_DEL15=0\n",
    "        elif not pd.isnull(DEP_DELAY_GROUP):\n",
    "            if DEP_DELAY_GROUP > 0:\n",
    "                DEP_DEL15=1\n",
    "            else:\n",
    "                DEP_DEL15=0\n",
    "    if pd.isnull(DEP_DELAY_GROUP):\n",
    "        if not pd.isnull(DEP_DELAY):\n",
    "            DEP_DELAY_GROUP= ceil(DEP_DELAY/15)\n",
    "    if pd.isnull(DEP_TIME_BLK):\n",
    "        if not pd.isnull(DEP_TIME):\n",
    "           DEP_TIME_BLK= str(CRS_DEP_TIME)+'-'+str(DEP_TIME)\n",
    "    return(CRS_DEP_TIME,DEP_TIME,DEP_DELAY,DEP_DELAY_NEW,DEP_DEL15,DEP_DELAY_GROUP,DEP_TIME_BLK)"
   ]
  },
  {
   "cell_type": "code",
   "execution_count": 8,
   "metadata": {},
   "outputs": [],
   "source": [
    "for i in range(12):\n",
    "    dt[i]['DEP_TIME']=[remp_dep(c[0],c[1],c[2],c[3],c[4],c[5],c[6])[1] for c in zip(dt[i]['CRS_DEP_TIME'],\\\n",
    "                    dt[i]['DEP_TIME'],dt[i]['DEP_DELAY'],dt[i]['DEP_DELAY_NEW'],dt[i]['DEP_DEL15'],\\\n",
    "                    dt[i]['DEP_DELAY_GROUP'],dt[i]['DEP_TIME_BLK'])]\n",
    "    dt[i]['DEP_DELAY']=[remp_dep(c[0],c[1],c[2],c[3],c[4],c[5],c[6])[2] for c in zip(dt[i]['CRS_DEP_TIME'],\\\n",
    "                    dt[i]['DEP_TIME'],dt[i]['DEP_DELAY'],dt[i]['DEP_DELAY_NEW'],dt[i]['DEP_DEL15'],\\\n",
    "                    dt[i]['DEP_DELAY_GROUP'],dt[i]['DEP_TIME_BLK'])]\n",
    "    dt[i]['DEP_DELAY_NEW']=[remp_dep(c[0],c[1],c[2],c[3],c[4],c[5],c[6])[3] for c in zip(dt[i]['CRS_DEP_TIME'],\\\n",
    "                    dt[i]['DEP_TIME'],dt[i]['DEP_DELAY'],dt[i]['DEP_DELAY_NEW'],dt[i]['DEP_DEL15'],\\\n",
    "                    dt[i]['DEP_DELAY_GROUP'],dt[i]['DEP_TIME_BLK'])]\n",
    "    dt[i]['DEP_DEL15']=[remp_dep(c[0],c[1],c[2],c[3],c[4],c[5],c[6])[4] for c in zip(dt[i]['CRS_DEP_TIME'],\\\n",
    "                    dt[i]['DEP_TIME'],dt[i]['DEP_DELAY'],dt[i]['DEP_DELAY_NEW'],dt[i]['DEP_DEL15'],\\\n",
    "                    dt[i]['DEP_DELAY_GROUP'],dt[i]['DEP_TIME_BLK'])]\n",
    "    dt[i]['DEP_DELAY_GROUP']=[remp_dep(c[0],c[1],c[2],c[3],c[4],c[5],c[6])[5] for c in zip(dt[i]['CRS_DEP_TIME'],\\\n",
    "                    dt[i]['DEP_TIME'],dt[i]['DEP_DELAY'],dt[i]['DEP_DELAY_NEW'],dt[i]['DEP_DEL15'],\\\n",
    "                    dt[i]['DEP_DELAY_GROUP'],dt[i]['DEP_TIME_BLK'])]\n",
    "    dt[i]['DEP_TIME_BLK']=[remp_dep(c[0],c[1],c[2],c[3],c[4],c[5],c[6])[6] for c in zip(dt[i]['CRS_DEP_TIME'],\\\n",
    "                    dt[i]['DEP_TIME'],dt[i]['DEP_DELAY'],dt[i]['DEP_DELAY_NEW'],dt[i]['DEP_DEL15'],\\\n",
    "                    dt[i]['DEP_DELAY_GROUP'],dt[i]['DEP_TIME_BLK'])]\n",
    "    "
   ]
  },
  {
   "cell_type": "code",
   "execution_count": 9,
   "metadata": {},
   "outputs": [],
   "source": [
    "# as we had done for departure performance variables ,for the missing values of the columns of arrival performances. \n",
    "#We will define also a function that can use the link between these variables in order to replace one missing value\n",
    "#when the the other values of equivalent columns are available.\n",
    "def remp_arr(CRS_ARR_TIME,ARR_TIME,ARR_DELAY,ARR_DELAY_NEW,ARR_DEL15,ARR_DELAY_GROUP,ARR_TIME_BLK):\n",
    "    \"\"\"\"This function allow to determinate the exaxtly value of an missing value when equivalent values\n",
    "    are available.\"\"\"\n",
    "    if pd.isnull(CRS_ARR_TIME):\n",
    "        if not pd.isnull(ARR_TIME):\n",
    "            if not pd.isnull(ARR_DELAY):\n",
    "               CRS_ARR_TIME=ARR_TIME-ARR_DELAY\n",
    "            elif not pd.isnull(ARR_DELAY_NEW):\n",
    "                if ARR_DELAY_NEW > 0:\n",
    "                   CRS_ARR_TIME=ARR_TIME-ARR_DELAY_NEW \n",
    "    if pd.isnull(ARR_TIME):\n",
    "        if not pd.isnull(CRS_ARR_TIME):\n",
    "           if not pd.isnull(ARR_DELAY):\n",
    "              ARR_TIME= CRS_ARR_TIME + ARR_DELAY\n",
    "           elif not pd.isnull(ARR_DELAY_NEW):\n",
    "                if ARR_DELAY_NEW > 0:\n",
    "                   ARR_TIME= CRS_ARR_TIME + ARR_DELAY_NEW\n",
    "       \n",
    "    if pd.isnull(ARR_DELAY):\n",
    "        if not pd.isnull(CRS_ARR_TIME):\n",
    "           if not pd.isnull(ARR_TIME):\n",
    "              ARR_DELAY= int(ARR_TIME) - int(CRS_ARR_TIME)\n",
    "           elif not pd.isnull(ARR_DELAY_NEW):\n",
    "              if ARR_DELAY_NEW > 0:\n",
    "                 ARR_DELAY= ARR_DELAY_NEW\n",
    "    if pd.isnull(ARR_DELAY_NEW):\n",
    "        if not pd.isnull(ARR_DELAY):\n",
    "            if ARR_DELAY > 0:\n",
    "               ARR_DELAY_NEW= ARR_DELAY\n",
    "            else:\n",
    "               ARR_DELAY_NEW=0\n",
    "    if pd.isnull(ARR_DEL15):\n",
    "        if not pd.isnull(ARR_DELAY_NEW):\n",
    "            ARR_DEL15= ceil(ARR_DELAY_NEW/15)\n",
    "            if ARR_DEL15 > 1:\n",
    "                ARR_DEL15=0\n",
    "        elif not pd.isnull(ARR_DELAY_GROUP):\n",
    "            if ARR_DELAY_GROUP > 0:\n",
    "                ARR_DEL15=1\n",
    "            else:\n",
    "                ARR_DEL15=0\n",
    "    if pd.isnull(ARR_DELAY_GROUP):\n",
    "        if not pd.isnull(ARR_DELAY):\n",
    "            ARR_DELAY_GROUP= ceil(ARR_DELAY/15)\n",
    "    if pd.isnull(ARR_TIME_BLK):\n",
    "        if not pd.isnull(ARR_TIME):\n",
    "            if not pd.isnull(CRS_ARR_TIME):\n",
    "               ARR_TIME_BLK= str(CRS_ARR_TIME)+'-'+str(ARR_TIME)\n",
    "    return(CRS_ARR_TIME,ARR_TIME,ARR_DELAY,ARR_DELAY_NEW,ARR_DEL15,ARR_DELAY_GROUP,ARR_TIME_BLK)"
   ]
  },
  {
   "cell_type": "code",
   "execution_count": 10,
   "metadata": {},
   "outputs": [],
   "source": [
    "for i in range(12):\n",
    "    dt[i]['CRS_ARR_TIME']=[remp_dep(c[0],c[1],c[2],c[3],c[4],c[5],c[6])[0] for c in zip(dt[i]['CRS_ARR_TIME'],\\\n",
    "                    dt[i]['ARR_TIME'],dt[i]['ARR_DELAY'],dt[i]['ARR_DELAY_NEW'],dt[i]['ARR_DEL15'],\\\n",
    "                    dt[i]['ARR_DELAY_GROUP'],dt[i]['ARR_TIME_BLK'])]\n",
    "    dt[i]['ARR_TIME']=[remp_dep(c[0],c[1],c[2],c[3],c[4],c[5],c[6])[1] for c in zip(dt[i]['CRS_ARR_TIME'],\\\n",
    "                    dt[i]['ARR_TIME'],dt[i]['ARR_DELAY'],dt[i]['ARR_DELAY_NEW'],dt[i]['ARR_DEL15'],\\\n",
    "                    dt[i]['ARR_DELAY_GROUP'],dt[i]['ARR_TIME_BLK'])]\n",
    "    dt[i]['ARR_DELAY']=[remp_dep(c[0],c[1],c[2],c[3],c[4],c[5],c[6])[2] for c in zip(dt[i]['CRS_ARR_TIME'],\\\n",
    "                    dt[i]['ARR_TIME'],dt[i]['ARR_DELAY'],dt[i]['ARR_DELAY_NEW'],dt[i]['ARR_DEL15'],\\\n",
    "                    dt[i]['ARR_DELAY_GROUP'],dt[i]['ARR_TIME_BLK'])]\n",
    "    dt[i]['ARR_DELAY_NEW']=[remp_dep(c[0],c[1],c[2],c[3],c[4],c[5],c[6])[3] for c in zip(dt[i]['CRS_ARR_TIME'],\\\n",
    "                    dt[i]['ARR_TIME'],dt[i]['ARR_DELAY'],dt[i]['ARR_DELAY_NEW'],dt[i]['ARR_DEL15'],\\\n",
    "                    dt[i]['ARR_DELAY_GROUP'],dt[i]['ARR_TIME_BLK'])]\n",
    "    dt[i]['ARR_DEL15']=[remp_dep(c[0],c[1],c[2],c[3],c[4],c[5],c[6])[4] for c in zip(dt[i]['CRS_ARR_TIME'],\\\n",
    "                    dt[i]['ARR_TIME'],dt[i]['ARR_DELAY'],dt[i]['ARR_DELAY_NEW'],dt[i]['ARR_DEL15'],\\\n",
    "                    dt[i]['ARR_DELAY_GROUP'],dt[i]['ARR_TIME_BLK'])]\n",
    "    dt[i]['ARR_DELAY_GROUP']=[remp_dep(c[0],c[1],c[2],c[3],c[4],c[5],c[6])[5] for c in zip(dt[i]['CRS_ARR_TIME'],\\\n",
    "                    dt[i]['ARR_TIME'],dt[i]['ARR_DELAY'],dt[i]['ARR_DELAY_NEW'],dt[i]['ARR_DEL15'],\\\n",
    "                    dt[i]['ARR_DELAY_GROUP'],dt[i]['ARR_TIME_BLK'])]\n",
    "    dt[i]['ARR_TIME_BLK']=[remp_dep(c[0],c[1],c[2],c[3],c[4],c[5],c[6])[6] for c in zip(dt[i]['CRS_ARR_TIME'],\\\n",
    "                    dt[i]['ARR_TIME'],dt[i]['ARR_DELAY'],dt[i]['ARR_DELAY_NEW'],dt[i]['ARR_DEL15'],\\\n",
    "                    dt[i]['ARR_DELAY_GROUP'],dt[i]['ARR_TIME_BLK'])]\n",
    "    "
   ]
  },
  {
   "cell_type": "code",
   "execution_count": 11,
   "metadata": {},
   "outputs": [],
   "source": [
    "# for the rest of columns, we will drop all columns which have missing values more than threshold that we will fix \n",
    "# to 80%. So we will define hereunder a function which can examinate the percentage of missing values of each \n",
    "# column and drop all columns which have missing values more than 80%.\n",
    "\n",
    "def remplissage(df,seuil):\n",
    "    ''' This function, examinate each column of the introduced dataframe and eliminate each one who has percentage\n",
    "        of missing values more than the introduced threshold.\n",
    "        \n",
    "        Args:\n",
    "        dt(DataFrame): a dataframe that the function examinate all his columns.\n",
    "        seuil(float): threshold upper it the column will be dropped.\n",
    "        \n",
    "        Returns:\n",
    "        df(DataFrame): a dataframe with columns who contains missing values under the introduced threshold.\n",
    "    '''\n",
    "    l=len(df)\n",
    "    \n",
    "    for c in df.columns :\n",
    "        cnt=1-((df[c].count())/l)\n",
    "        if cnt > seuil:\n",
    "            del(df[c])\n",
    "    return df"
   ]
  },
  {
   "cell_type": "code",
   "execution_count": 12,
   "metadata": {},
   "outputs": [],
   "source": [
    "#drop columns which has more than 80% missing values.\n",
    "for i in range(12):\n",
    "    dt[i]=remplissage(dt[i],0.8)"
   ]
  },
  {
   "cell_type": "code",
   "execution_count": 13,
   "metadata": {},
   "outputs": [],
   "source": [
    "tab_missing_values=pd.DataFrame({c:sum([dt[i][c].isna().sum() for i in range(12)]) for c in dt[0].columns},index=['missing values'])"
   ]
  },
  {
   "cell_type": "code",
   "execution_count": 14,
   "metadata": {},
   "outputs": [
    {
     "data": {
      "text/html": [
       "<div>\n",
       "<style scoped>\n",
       "    .dataframe tbody tr th:only-of-type {\n",
       "        vertical-align: middle;\n",
       "    }\n",
       "\n",
       "    .dataframe tbody tr th {\n",
       "        vertical-align: top;\n",
       "    }\n",
       "\n",
       "    .dataframe thead th {\n",
       "        text-align: right;\n",
       "    }\n",
       "</style>\n",
       "<table border=\"1\" class=\"dataframe\">\n",
       "  <thead>\n",
       "    <tr style=\"text-align: right;\">\n",
       "      <th></th>\n",
       "      <th>DEST</th>\n",
       "      <th>TAXI_OUT</th>\n",
       "      <th>WHEELS_OFF</th>\n",
       "      <th>WHEELS_ON</th>\n",
       "      <th>TAXI_IN</th>\n",
       "      <th>CRS_ARR_TIME</th>\n",
       "      <th>ARR_TIME</th>\n",
       "      <th>ARR_DELAY</th>\n",
       "      <th>ARR_DELAY_NEW</th>\n",
       "      <th>ARR_DEL15</th>\n",
       "      <th>ARR_DELAY_GROUP</th>\n",
       "      <th>ARR_TIME_BLK</th>\n",
       "      <th>CANCELLED</th>\n",
       "      <th>DIVERTED</th>\n",
       "      <th>CRS_ELAPSED_TIME</th>\n",
       "      <th>ACTUAL_ELAPSED_TIME</th>\n",
       "      <th>AIR_TIME</th>\n",
       "      <th>DISTANCE</th>\n",
       "      <th>DISTANCE_GROUP</th>\n",
       "    </tr>\n",
       "  </thead>\n",
       "  <tbody>\n",
       "    <tr>\n",
       "      <th>missing values</th>\n",
       "      <td>1</td>\n",
       "      <td>65523</td>\n",
       "      <td>65523</td>\n",
       "      <td>67983</td>\n",
       "      <td>67983</td>\n",
       "      <td>3</td>\n",
       "      <td>3</td>\n",
       "      <td>3</td>\n",
       "      <td>3</td>\n",
       "      <td>3</td>\n",
       "      <td>3</td>\n",
       "      <td>3</td>\n",
       "      <td>3</td>\n",
       "      <td>4</td>\n",
       "      <td>10</td>\n",
       "      <td>79783</td>\n",
       "      <td>79783</td>\n",
       "      <td>5</td>\n",
       "      <td>5</td>\n",
       "    </tr>\n",
       "  </tbody>\n",
       "</table>\n",
       "</div>"
      ],
      "text/plain": [
       "                DEST  TAXI_OUT  WHEELS_OFF  WHEELS_ON  TAXI_IN  CRS_ARR_TIME  \\\n",
       "missing values     1     65523       65523      67983    67983             3   \n",
       "\n",
       "                ARR_TIME  ARR_DELAY  ARR_DELAY_NEW  ARR_DEL15  \\\n",
       "missing values         3          3              3          3   \n",
       "\n",
       "                ARR_DELAY_GROUP  ARR_TIME_BLK  CANCELLED  DIVERTED  \\\n",
       "missing values                3             3          3         4   \n",
       "\n",
       "                CRS_ELAPSED_TIME  ACTUAL_ELAPSED_TIME  AIR_TIME  DISTANCE  \\\n",
       "missing values                10                79783     79783         5   \n",
       "\n",
       "                DISTANCE_GROUP  \n",
       "missing values               5  "
      ]
     },
     "execution_count": 14,
     "metadata": {},
     "output_type": "execute_result"
    }
   ],
   "source": [
    "#Display the rest of columns which has missing values yet.\n",
    "l=[]\n",
    "for c in tab_missing_values.columns:\n",
    "    if tab_missing_values.iloc[0][c]> 0:\n",
    "        l.append(c)\n",
    "tab_missing_values[l]"
   ]
  },
  {
   "cell_type": "code",
   "execution_count": 15,
   "metadata": {},
   "outputs": [],
   "source": [
    "# As it shown in the table above , we notice that the percentage of rows who contains missing value, represent \n",
    "# barely 2% of the whole data. So we decide to drop all rows which contains missing values.\n",
    "for i in range(12):\n",
    "    dt[i]=dt[i].dropna()"
   ]
  },
  {
   "cell_type": "markdown",
   "metadata": {},
   "source": [
    "<font color='blue'> <font size=3> ** Rows duplicated ** </font>"
   ]
  },
  {
   "cell_type": "code",
   "execution_count": 16,
   "metadata": {},
   "outputs": [],
   "source": [
    "for i in range(12):\n",
    "    dt[i]=dt[i].drop_duplicates()"
   ]
  },
  {
   "cell_type": "markdown",
   "metadata": {},
   "source": [
    "<font color='blue'> <font size=3> ** Useless columns ** </font>"
   ]
  },
  {
   "cell_type": "code",
   "execution_count": 17,
   "metadata": {},
   "outputs": [],
   "source": [
    "# hereunder, we will define a list of columns that we find useless for our goal, which is to predict lateness.\n",
    "useless_col=['DEP_TIME','DEP_DELAY','DEP_DELAY_NEW','DEP_DEL15','DEP_DELAY_GROUP','DEP_TIME_BLK','TAXI_OUT',\\\n",
    "            'WHEELS_OFF','WHEELS_ON','TAXI_IN','ARR_TIME','ARR_DELAY_NEW','ARR_DEL15','ARR_DELAY_GROUP',\\\n",
    "            'ARR_TIME_BLK','CANCELLED','ACTUAL_ELAPSED_TIME','AIR_TIME','DISTANCE_GROUP','DIVERTED','WEATHER_DELAY'\\\n",
    "            ,'CARRIER_DELAY','NAS_DELAY','SECURITY_DELAY','LATE_AIRCRAFT_DELAY']\n",
    "for i in range(12):\n",
    "    for c in useless_col:\n",
    "        del (dt[i][c])\n",
    "\n",
    "\n"
   ]
  },
  {
   "cell_type": "markdown",
   "metadata": {},
   "source": [
    "<font color='blue'> <font size=3> ** Data concatenate ** </font>"
   ]
  },
  {
   "cell_type": "code",
   "execution_count": 18,
   "metadata": {},
   "outputs": [],
   "source": [
    "data=pd.concat(dt) # concatenate the datas of each month datas in one unique dataframe."
   ]
  },
  {
   "cell_type": "code",
   "execution_count": 19,
   "metadata": {},
   "outputs": [
    {
     "data": {
      "text/html": [
       "<div>\n",
       "<style scoped>\n",
       "    .dataframe tbody tr th:only-of-type {\n",
       "        vertical-align: middle;\n",
       "    }\n",
       "\n",
       "    .dataframe tbody tr th {\n",
       "        vertical-align: top;\n",
       "    }\n",
       "\n",
       "    .dataframe thead th {\n",
       "        text-align: right;\n",
       "    }\n",
       "</style>\n",
       "<table border=\"1\" class=\"dataframe\">\n",
       "  <thead>\n",
       "    <tr style=\"text-align: right;\">\n",
       "      <th></th>\n",
       "      <th>QUARTER</th>\n",
       "      <th>MONTH</th>\n",
       "      <th>DAY_OF_MONTH</th>\n",
       "      <th>DAY_OF_WEEK</th>\n",
       "      <th>CARRIER</th>\n",
       "      <th>ORIGIN</th>\n",
       "      <th>DEST</th>\n",
       "      <th>CRS_DEP_TIME</th>\n",
       "      <th>CRS_ARR_TIME</th>\n",
       "      <th>ARR_DELAY</th>\n",
       "      <th>CRS_ELAPSED_TIME</th>\n",
       "      <th>DISTANCE</th>\n",
       "    </tr>\n",
       "  </thead>\n",
       "  <tbody>\n",
       "    <tr>\n",
       "      <th>0</th>\n",
       "      <td>1</td>\n",
       "      <td>1</td>\n",
       "      <td>6</td>\n",
       "      <td>3</td>\n",
       "      <td>AA</td>\n",
       "      <td>DFW</td>\n",
       "      <td>DTW</td>\n",
       "      <td>1100.0</td>\n",
       "      <td>1438.0</td>\n",
       "      <td>-6.0</td>\n",
       "      <td>158.0</td>\n",
       "      <td>986.0</td>\n",
       "    </tr>\n",
       "    <tr>\n",
       "      <th>1</th>\n",
       "      <td>1</td>\n",
       "      <td>1</td>\n",
       "      <td>7</td>\n",
       "      <td>4</td>\n",
       "      <td>AA</td>\n",
       "      <td>DFW</td>\n",
       "      <td>DTW</td>\n",
       "      <td>1100.0</td>\n",
       "      <td>1438.0</td>\n",
       "      <td>-12.0</td>\n",
       "      <td>158.0</td>\n",
       "      <td>986.0</td>\n",
       "    </tr>\n",
       "    <tr>\n",
       "      <th>2</th>\n",
       "      <td>1</td>\n",
       "      <td>1</td>\n",
       "      <td>8</td>\n",
       "      <td>5</td>\n",
       "      <td>AA</td>\n",
       "      <td>DFW</td>\n",
       "      <td>DTW</td>\n",
       "      <td>1100.0</td>\n",
       "      <td>1438.0</td>\n",
       "      <td>7.0</td>\n",
       "      <td>158.0</td>\n",
       "      <td>986.0</td>\n",
       "    </tr>\n",
       "    <tr>\n",
       "      <th>3</th>\n",
       "      <td>1</td>\n",
       "      <td>1</td>\n",
       "      <td>9</td>\n",
       "      <td>6</td>\n",
       "      <td>AA</td>\n",
       "      <td>DFW</td>\n",
       "      <td>DTW</td>\n",
       "      <td>1100.0</td>\n",
       "      <td>1438.0</td>\n",
       "      <td>-5.0</td>\n",
       "      <td>158.0</td>\n",
       "      <td>986.0</td>\n",
       "    </tr>\n",
       "    <tr>\n",
       "      <th>4</th>\n",
       "      <td>1</td>\n",
       "      <td>1</td>\n",
       "      <td>10</td>\n",
       "      <td>7</td>\n",
       "      <td>AA</td>\n",
       "      <td>DFW</td>\n",
       "      <td>DTW</td>\n",
       "      <td>1100.0</td>\n",
       "      <td>1438.0</td>\n",
       "      <td>113.0</td>\n",
       "      <td>158.0</td>\n",
       "      <td>986.0</td>\n",
       "    </tr>\n",
       "  </tbody>\n",
       "</table>\n",
       "</div>"
      ],
      "text/plain": [
       "  QUARTER  MONTH DAY_OF_MONTH DAY_OF_WEEK CARRIER ORIGIN DEST  CRS_DEP_TIME  \\\n",
       "0       1      1            6           3      AA    DFW  DTW        1100.0   \n",
       "1       1      1            7           4      AA    DFW  DTW        1100.0   \n",
       "2       1      1            8           5      AA    DFW  DTW        1100.0   \n",
       "3       1      1            9           6      AA    DFW  DTW        1100.0   \n",
       "4       1      1           10           7      AA    DFW  DTW        1100.0   \n",
       "\n",
       "   CRS_ARR_TIME  ARR_DELAY  CRS_ELAPSED_TIME  DISTANCE  \n",
       "0        1438.0       -6.0             158.0     986.0  \n",
       "1        1438.0      -12.0             158.0     986.0  \n",
       "2        1438.0        7.0             158.0     986.0  \n",
       "3        1438.0       -5.0             158.0     986.0  \n",
       "4        1438.0      113.0             158.0     986.0  "
      ]
     },
     "execution_count": 19,
     "metadata": {},
     "output_type": "execute_result"
    }
   ],
   "source": [
    "data.head() # Survey of the whole data."
   ]
  },
  {
   "cell_type": "code",
   "execution_count": 20,
   "metadata": {},
   "outputs": [
    {
     "name": "stdout",
     "output_type": "stream",
     "text": [
      "<class 'pandas.core.frame.DataFrame'>\n",
      "Int64Index: 5556195 entries, 0 to 460948\n",
      "Data columns (total 12 columns):\n",
      "QUARTER             object\n",
      "MONTH               int64\n",
      "DAY_OF_MONTH        object\n",
      "DAY_OF_WEEK         object\n",
      "CARRIER             object\n",
      "ORIGIN              object\n",
      "DEST                object\n",
      "CRS_DEP_TIME        float64\n",
      "CRS_ARR_TIME        float64\n",
      "ARR_DELAY           float64\n",
      "CRS_ELAPSED_TIME    float64\n",
      "DISTANCE            float64\n",
      "dtypes: float64(5), int64(1), object(6)\n",
      "memory usage: 551.1+ MB\n"
     ]
    }
   ],
   "source": [
    "data.info()"
   ]
  },
  {
   "cell_type": "code",
   "execution_count": 21,
   "metadata": {},
   "outputs": [],
   "source": [
    "data['QUARTER']=data['QUARTER'].astype('int')\n",
    "data['DAY_OF_MONTH']=data['DAY_OF_MONTH'].astype('float')\n",
    "data['DAY_OF_WEEK']=data['DAY_OF_WEEK'].astype('int')\n"
   ]
  },
  {
   "cell_type": "markdown",
   "metadata": {},
   "source": [
    "<font color=blue><font size=3> ** Outliers ** </font>"
   ]
  },
  {
   "cell_type": "code",
   "execution_count": 22,
   "metadata": {},
   "outputs": [
    {
     "data": {
      "text/plain": [
       "1    1438728\n",
       "3    1433721\n",
       "4    1368626\n",
       "2    1315120\n",
       "Name: QUARTER, dtype: int64"
      ]
     },
     "execution_count": 22,
     "metadata": {},
     "output_type": "execute_result"
    }
   ],
   "source": [
    "data['QUARTER'].value_counts()"
   ]
  },
  {
   "cell_type": "code",
   "execution_count": 23,
   "metadata": {},
   "outputs": [
    {
     "data": {
      "text/plain": [
       "3     589333\n",
       "7     491198\n",
       "8     489965\n",
       "6     480916\n",
       "5     475499\n",
       "10    467486\n",
       "9     452558\n",
       "12    452229\n",
       "11    448911\n",
       "1     433298\n",
       "2     416097\n",
       "4     358705\n",
       "Name: MONTH, dtype: int64"
      ]
     },
     "execution_count": 23,
     "metadata": {},
     "output_type": "execute_result"
    }
   ],
   "source": [
    "data['MONTH'].value_counts()"
   ]
  },
  {
   "cell_type": "code",
   "execution_count": 24,
   "metadata": {},
   "outputs": [
    {
     "data": {
      "text/plain": [
       "26.0    187349\n",
       "15.0    187238\n",
       "18.0    187204\n",
       "28.0    186705\n",
       "22.0    186292\n",
       "27.0    185545\n",
       "21.0    185131\n",
       "14.0    184972\n",
       "11.0    184833\n",
       "29.0    184592\n",
       "19.0    184142\n",
       "20.0    182979\n",
       "2.0     182376\n",
       "12.0    182144\n",
       "17.0    181472\n",
       "16.0    181241\n",
       "13.0    181137\n",
       "25.0    180947\n",
       "6.0     180731\n",
       "1.0     180275\n",
       "5.0     180088\n",
       "8.0     180046\n",
       "23.0    179877\n",
       "7.0     179511\n",
       "10.0    178836\n",
       "3.0     178426\n",
       "4.0     178298\n",
       "9.0     178215\n",
       "24.0    172418\n",
       "30.0    165138\n",
       "31.0    108037\n",
       "Name: DAY_OF_MONTH, dtype: int64"
      ]
     },
     "execution_count": 24,
     "metadata": {},
     "output_type": "execute_result"
    }
   ],
   "source": [
    "data['DAY_OF_MONTH'].value_counts()"
   ]
  },
  {
   "cell_type": "markdown",
   "metadata": {},
   "source": [
    "**All the examinated columns above don't present outliers.The rest of columns can take all possibles values.So it is difficult to detecte outliers in theses columns.**"
   ]
  },
  {
   "cell_type": "markdown",
   "metadata": {},
   "source": [
    "<font color='blue'><font size=3>**Categorical variables**</font>"
   ]
  },
  {
   "cell_type": "code",
   "execution_count": 25,
   "metadata": {},
   "outputs": [
    {
     "data": {
      "text/plain": [
       "array(['AA', 'AS', 'B6', 'DL', 'F9', 'HA', 'NK', 'EV', 'OO', 'UA', 'VX',\n",
       "       'WN'], dtype=object)"
      ]
     },
     "execution_count": 25,
     "metadata": {},
     "output_type": "execute_result"
    }
   ],
   "source": [
    "#Identify the list  of differents companies mentionned in our data set\n",
    "companies=data['CARRIER'].unique()\n",
    "companies # display the list companies mentionned in our data set."
   ]
  },
  {
   "cell_type": "markdown",
   "metadata": {},
   "source": [
    "<font color='Citron'>**We will create new variables which correspond to each different airline companie mentionned in our data set and **</font>"
   ]
  },
  {
   "cell_type": "code",
   "execution_count": 26,
   "metadata": {},
   "outputs": [],
   "source": [
    "# Create new variables correspond to differents airline compagnies mentionned in our dataset on base one hot\n",
    "#encoding\n",
    "for c in companies:\n",
    "    data[c]=[1 if m==c else 0 for m in data['CARRIER']]"
   ]
  },
  {
   "cell_type": "code",
   "execution_count": 27,
   "metadata": {},
   "outputs": [],
   "source": [
    "#We will know get rid of the column 'CARRIER'.\n",
    "del(data['CARRIER'])"
   ]
  },
  {
   "cell_type": "markdown",
   "metadata": {},
   "source": [
    "<font color=blue> <font size=3> ** Features engenering **</font>"
   ]
  },
  {
   "cell_type": "markdown",
   "metadata": {},
   "source": [
    "**We will create new variables, namely  LATENESS ,risque_or_aeroport and risque_des_aeroport. LATENESS take 1 if the flight make lateness and 0 if it is not. risque_or_aeroport allow to give the number of delayed flight occured in origin aeroport. risque-des_aeroport allow to give the number of delayed flight occured in destinated aeroport.**"
   ]
  },
  {
   "cell_type": "code",
   "execution_count": 28,
   "metadata": {},
   "outputs": [],
   "source": [
    "#The feature LATENESS take 1 if the value of the feature LATENESS_TIME is strictly positive and 0 if it is not.\n",
    "data['LATENESS']=[1 if c>0 else 0 for c in data['ARR_DELAY']]"
   ]
  },
  {
   "cell_type": "code",
   "execution_count": 29,
   "metadata": {},
   "outputs": [],
   "source": [
    "# We will create a new variable which allow to give the numbre of delayed flight occured in origin aeroport.\n",
    "df=data[data['ARR_DELAY']>0] # data of delayed flight.\n",
    "aeroport_or=data['ORIGIN'].unique() # data of used aeroport in our data set\n",
    "tab_nb_retards=pd.DataFrame(index=aeroport_or) # table wich recapitulate the nombre of delayed flight occured in\n",
    "                                               # each origin aeroport\n",
    "tab_nb_retards['aeroport_risque']=[len(df[df['ORIGIN']==c]) for c in  aeroport_or]\n"
   ]
  },
  {
   "cell_type": "code",
   "execution_count": 30,
   "metadata": {},
   "outputs": [],
   "source": [
    "data['risque_or_aeroport']=[tab_nb_retards.loc[c]['aeroport_risque'] for c in data['ORIGIN']] \n",
    "# new variable namely 'risque_or_aeroport' which give the number of delayed flight in origin aeroport for each flight."
   ]
  },
  {
   "cell_type": "code",
   "execution_count": 31,
   "metadata": {},
   "outputs": [],
   "source": [
    "# We will create a new variable which allow to give the numbre of delayed flight occured in destinated aeroport.\n",
    "\n",
    "aeroport_des=data['DEST'].unique() # data of used destinated aeroport in our data set\n",
    "tab_nb=pd.DataFrame(index=aeroport_des) # table wich recapitulate the nombre of delayed flight occured in\n",
    "                                               # each destinated aeroport\n",
    "tab_nb['aeroport_risque']=[len(df[df['DEST']==c]) for c in  aeroport_des]"
   ]
  },
  {
   "cell_type": "code",
   "execution_count": 32,
   "metadata": {},
   "outputs": [],
   "source": [
    "data['risque_des_aeroport']=[tab_nb.loc[c]['aeroport_risque'] for c in data['DEST']] \n",
    "# new variable namely 'risque_or_aeroport' which give the number of delayed flight in origin aeroport for each flight."
   ]
  },
  {
   "cell_type": "code",
   "execution_count": 33,
   "metadata": {},
   "outputs": [
    {
     "data": {
      "text/html": [
       "<div>\n",
       "<style scoped>\n",
       "    .dataframe tbody tr th:only-of-type {\n",
       "        vertical-align: middle;\n",
       "    }\n",
       "\n",
       "    .dataframe tbody tr th {\n",
       "        vertical-align: top;\n",
       "    }\n",
       "\n",
       "    .dataframe thead th {\n",
       "        text-align: right;\n",
       "    }\n",
       "</style>\n",
       "<table border=\"1\" class=\"dataframe\">\n",
       "  <thead>\n",
       "    <tr style=\"text-align: right;\">\n",
       "      <th></th>\n",
       "      <th>QUARTER</th>\n",
       "      <th>MONTH</th>\n",
       "      <th>DAY_OF_MONTH</th>\n",
       "      <th>DAY_OF_WEEK</th>\n",
       "      <th>ORIGIN</th>\n",
       "      <th>DEST</th>\n",
       "      <th>CRS_DEP_TIME</th>\n",
       "      <th>CRS_ARR_TIME</th>\n",
       "      <th>ARR_DELAY</th>\n",
       "      <th>CRS_ELAPSED_TIME</th>\n",
       "      <th>...</th>\n",
       "      <th>HA</th>\n",
       "      <th>NK</th>\n",
       "      <th>EV</th>\n",
       "      <th>OO</th>\n",
       "      <th>UA</th>\n",
       "      <th>VX</th>\n",
       "      <th>WN</th>\n",
       "      <th>LATENESS</th>\n",
       "      <th>risque_or_aeroport</th>\n",
       "      <th>risque_des_aeroport</th>\n",
       "    </tr>\n",
       "  </thead>\n",
       "  <tbody>\n",
       "    <tr>\n",
       "      <th>0</th>\n",
       "      <td>1</td>\n",
       "      <td>1</td>\n",
       "      <td>6.0</td>\n",
       "      <td>3</td>\n",
       "      <td>DFW</td>\n",
       "      <td>DTW</td>\n",
       "      <td>1100.0</td>\n",
       "      <td>1438.0</td>\n",
       "      <td>-6.0</td>\n",
       "      <td>158.0</td>\n",
       "      <td>...</td>\n",
       "      <td>0</td>\n",
       "      <td>0</td>\n",
       "      <td>0</td>\n",
       "      <td>0</td>\n",
       "      <td>0</td>\n",
       "      <td>0</td>\n",
       "      <td>0</td>\n",
       "      <td>0</td>\n",
       "      <td>76937</td>\n",
       "      <td>34317</td>\n",
       "    </tr>\n",
       "    <tr>\n",
       "      <th>1</th>\n",
       "      <td>1</td>\n",
       "      <td>1</td>\n",
       "      <td>7.0</td>\n",
       "      <td>4</td>\n",
       "      <td>DFW</td>\n",
       "      <td>DTW</td>\n",
       "      <td>1100.0</td>\n",
       "      <td>1438.0</td>\n",
       "      <td>-12.0</td>\n",
       "      <td>158.0</td>\n",
       "      <td>...</td>\n",
       "      <td>0</td>\n",
       "      <td>0</td>\n",
       "      <td>0</td>\n",
       "      <td>0</td>\n",
       "      <td>0</td>\n",
       "      <td>0</td>\n",
       "      <td>0</td>\n",
       "      <td>0</td>\n",
       "      <td>76937</td>\n",
       "      <td>34317</td>\n",
       "    </tr>\n",
       "    <tr>\n",
       "      <th>2</th>\n",
       "      <td>1</td>\n",
       "      <td>1</td>\n",
       "      <td>8.0</td>\n",
       "      <td>5</td>\n",
       "      <td>DFW</td>\n",
       "      <td>DTW</td>\n",
       "      <td>1100.0</td>\n",
       "      <td>1438.0</td>\n",
       "      <td>7.0</td>\n",
       "      <td>158.0</td>\n",
       "      <td>...</td>\n",
       "      <td>0</td>\n",
       "      <td>0</td>\n",
       "      <td>0</td>\n",
       "      <td>0</td>\n",
       "      <td>0</td>\n",
       "      <td>0</td>\n",
       "      <td>0</td>\n",
       "      <td>1</td>\n",
       "      <td>76937</td>\n",
       "      <td>34317</td>\n",
       "    </tr>\n",
       "    <tr>\n",
       "      <th>3</th>\n",
       "      <td>1</td>\n",
       "      <td>1</td>\n",
       "      <td>9.0</td>\n",
       "      <td>6</td>\n",
       "      <td>DFW</td>\n",
       "      <td>DTW</td>\n",
       "      <td>1100.0</td>\n",
       "      <td>1438.0</td>\n",
       "      <td>-5.0</td>\n",
       "      <td>158.0</td>\n",
       "      <td>...</td>\n",
       "      <td>0</td>\n",
       "      <td>0</td>\n",
       "      <td>0</td>\n",
       "      <td>0</td>\n",
       "      <td>0</td>\n",
       "      <td>0</td>\n",
       "      <td>0</td>\n",
       "      <td>0</td>\n",
       "      <td>76937</td>\n",
       "      <td>34317</td>\n",
       "    </tr>\n",
       "    <tr>\n",
       "      <th>4</th>\n",
       "      <td>1</td>\n",
       "      <td>1</td>\n",
       "      <td>10.0</td>\n",
       "      <td>7</td>\n",
       "      <td>DFW</td>\n",
       "      <td>DTW</td>\n",
       "      <td>1100.0</td>\n",
       "      <td>1438.0</td>\n",
       "      <td>113.0</td>\n",
       "      <td>158.0</td>\n",
       "      <td>...</td>\n",
       "      <td>0</td>\n",
       "      <td>0</td>\n",
       "      <td>0</td>\n",
       "      <td>0</td>\n",
       "      <td>0</td>\n",
       "      <td>0</td>\n",
       "      <td>0</td>\n",
       "      <td>1</td>\n",
       "      <td>76937</td>\n",
       "      <td>34317</td>\n",
       "    </tr>\n",
       "  </tbody>\n",
       "</table>\n",
       "<p>5 rows × 26 columns</p>\n",
       "</div>"
      ],
      "text/plain": [
       "   QUARTER  MONTH  DAY_OF_MONTH  DAY_OF_WEEK ORIGIN DEST  CRS_DEP_TIME  \\\n",
       "0        1      1           6.0            3    DFW  DTW        1100.0   \n",
       "1        1      1           7.0            4    DFW  DTW        1100.0   \n",
       "2        1      1           8.0            5    DFW  DTW        1100.0   \n",
       "3        1      1           9.0            6    DFW  DTW        1100.0   \n",
       "4        1      1          10.0            7    DFW  DTW        1100.0   \n",
       "\n",
       "   CRS_ARR_TIME  ARR_DELAY  CRS_ELAPSED_TIME         ...           HA  NK  EV  \\\n",
       "0        1438.0       -6.0             158.0         ...            0   0   0   \n",
       "1        1438.0      -12.0             158.0         ...            0   0   0   \n",
       "2        1438.0        7.0             158.0         ...            0   0   0   \n",
       "3        1438.0       -5.0             158.0         ...            0   0   0   \n",
       "4        1438.0      113.0             158.0         ...            0   0   0   \n",
       "\n",
       "   OO  UA  VX  WN  LATENESS  risque_or_aeroport  risque_des_aeroport  \n",
       "0   0   0   0   0         0               76937                34317  \n",
       "1   0   0   0   0         0               76937                34317  \n",
       "2   0   0   0   0         1               76937                34317  \n",
       "3   0   0   0   0         0               76937                34317  \n",
       "4   0   0   0   0         1               76937                34317  \n",
       "\n",
       "[5 rows x 26 columns]"
      ]
     },
     "execution_count": 33,
     "metadata": {},
     "output_type": "execute_result"
    }
   ],
   "source": [
    "data.head()"
   ]
  },
  {
   "cell_type": "markdown",
   "metadata": {},
   "source": [
    "<font color=blue> ** Divers Operation ** </font>"
   ]
  },
  {
   "cell_type": "code",
   "execution_count": 37,
   "metadata": {},
   "outputs": [],
   "source": [
    "data['CRS_DEP_TIME']=[float(c[:2])*60 + float(c[2:]) for c in data['CRS_DEP_TIME'].astype(str)] \n",
    "data['CRS_ARR_TIME']=[float(c[:2])*60 + float(c[2:]) for c in data['CRS_ARR_TIME'].astype(str)] "
   ]
  },
  {
   "cell_type": "markdown",
   "metadata": {},
   "source": [
    "# Data Exploration"
   ]
  },
  {
   "cell_type": "markdown",
   "metadata": {},
   "source": [
    "<font color=blue><font size=3> ** Analyse univariate ** </font>"
   ]
  },
  {
   "cell_type": "code",
   "execution_count": 40,
   "metadata": {},
   "outputs": [],
   "source": [
    "tab=pd.DataFrame({c:[data[c].median(),data[c].mean(),data[c].mode(),data[c].quantile(0.25),\\\n",
    "                    data[c].quantile(0.75)] for c in ['QUARTER','MONTH','DAY_OF_MONTH','DAY_OF_WEEK','LATENESS']},\\\n",
    "                index=['median','mean','mode','Q1','Q3'])"
   ]
  },
  {
   "cell_type": "code",
   "execution_count": 41,
   "metadata": {},
   "outputs": [
    {
     "data": {
      "text/html": [
       "<div>\n",
       "<style scoped>\n",
       "    .dataframe tbody tr th:only-of-type {\n",
       "        vertical-align: middle;\n",
       "    }\n",
       "\n",
       "    .dataframe tbody tr th {\n",
       "        vertical-align: top;\n",
       "    }\n",
       "\n",
       "    .dataframe thead th {\n",
       "        text-align: right;\n",
       "    }\n",
       "</style>\n",
       "<table border=\"1\" class=\"dataframe\">\n",
       "  <thead>\n",
       "    <tr style=\"text-align: right;\">\n",
       "      <th></th>\n",
       "      <th>QUARTER</th>\n",
       "      <th>MONTH</th>\n",
       "      <th>DAY_OF_MONTH</th>\n",
       "      <th>DAY_OF_WEEK</th>\n",
       "      <th>LATENESS</th>\n",
       "    </tr>\n",
       "  </thead>\n",
       "  <tbody>\n",
       "    <tr>\n",
       "      <th>median</th>\n",
       "      <td>3</td>\n",
       "      <td>7</td>\n",
       "      <td>16</td>\n",
       "      <td>4</td>\n",
       "      <td>0</td>\n",
       "    </tr>\n",
       "    <tr>\n",
       "      <th>mean</th>\n",
       "      <td>2.49175</td>\n",
       "      <td>6.51562</td>\n",
       "      <td>15.8206</td>\n",
       "      <td>3.92816</td>\n",
       "      <td>0.340253</td>\n",
       "    </tr>\n",
       "    <tr>\n",
       "      <th>mode</th>\n",
       "      <td>0    1\n",
       "dtype: int64</td>\n",
       "      <td>0    3\n",
       "dtype: int64</td>\n",
       "      <td>0    26.0\n",
       "dtype: float64</td>\n",
       "      <td>0    5\n",
       "dtype: int64</td>\n",
       "      <td>0    0\n",
       "dtype: int64</td>\n",
       "    </tr>\n",
       "    <tr>\n",
       "      <th>Q1</th>\n",
       "      <td>1</td>\n",
       "      <td>3</td>\n",
       "      <td>8</td>\n",
       "      <td>2</td>\n",
       "      <td>0</td>\n",
       "    </tr>\n",
       "    <tr>\n",
       "      <th>Q3</th>\n",
       "      <td>3</td>\n",
       "      <td>9</td>\n",
       "      <td>23</td>\n",
       "      <td>6</td>\n",
       "      <td>1</td>\n",
       "    </tr>\n",
       "  </tbody>\n",
       "</table>\n",
       "</div>"
      ],
      "text/plain": [
       "                    QUARTER                MONTH              DAY_OF_MONTH  \\\n",
       "median                    3                    7                        16   \n",
       "mean                2.49175              6.51562                   15.8206   \n",
       "mode    0    1\n",
       "dtype: int64  0    3\n",
       "dtype: int64  0    26.0\n",
       "dtype: float64   \n",
       "Q1                        1                    3                         8   \n",
       "Q3                        3                    9                        23   \n",
       "\n",
       "                DAY_OF_WEEK             LATENESS  \n",
       "median                    4                    0  \n",
       "mean                3.92816             0.340253  \n",
       "mode    0    5\n",
       "dtype: int64  0    0\n",
       "dtype: int64  \n",
       "Q1                        2                    0  \n",
       "Q3                        6                    1  "
      ]
     },
     "execution_count": 41,
     "metadata": {},
     "output_type": "execute_result"
    }
   ],
   "source": [
    "tab"
   ]
  },
  {
   "cell_type": "markdown",
   "metadata": {},
   "source": [
    "**\n",
    "-The most flight of the year are in the first quarter especially in the third month.  \n",
    "-The most flight of the week are in saturday.  \n",
    "-More than 80% of flight are in time.**"
   ]
  },
  {
   "cell_type": "code",
   "execution_count": 42,
   "metadata": {},
   "outputs": [
    {
     "data": {
      "text/plain": [
       "Text(0.5,1,'Histogramme de ARR_DELAY')"
      ]
     },
     "execution_count": 42,
     "metadata": {},
     "output_type": "execute_result"
    },
    {
     "data": {
      "image/png": "[encoded data removed]",
      "text/plain": [
       "<Figure size 1800x2880 with 5 Axes>"
      ]
     },
     "metadata": {},
     "output_type": "display_data"
    }
   ],
   "source": [
    "#histogram of differents quantitative variables.\n",
    "fig=plt.figure(figsize=(25,40))\n",
    "fig.add_subplot(3,2,1)\n",
    "plt.hist(data['CRS_ARR_TIME'],density=True,label='Histogramme')\n",
    "plt.axvline(data['CRS_ARR_TIME'].mean(),color='red',label='Mean')\n",
    "plt.legend()\n",
    "plt.title('Histogramme de CRS_ARR_TIME',fontsize=18,color='b')\n",
    "fig.add_subplot(3,2,2)\n",
    "plt.hist(data['CRS_DEP_TIME'],label='Histogramme')\n",
    "plt.axvline(data['CRS_DEP_TIME'].mean(),color='red',label='Mean')\n",
    "plt.legend()\n",
    "plt.title('Histogramme de CRS_DEP_TIME',fontsize=18,color='b')\n",
    "fig.add_subplot(3,2,3)\n",
    "plt.hist(data['CRS_ELAPSED_TIME'],label='Histogramme')\n",
    "plt.axvline(data['CRS_ELAPSED_TIME'].mean(),color='red',label='Mean')\n",
    "plt.legend()\n",
    "plt.title('Histogramme de CRS_ELAPSED_TIME',fontsize=18,color='b')\n",
    "fig.add_subplot(3,2,4)\n",
    "plt.hist(data['DISTANCE'],label='Histogramme')\n",
    "plt.axvline(data['DISTANCE'].mean(),color='red',label='Mean')\n",
    "plt.legend()\n",
    "plt.title('Histogramme de DISTANCE',fontsize=18,color='b')\n",
    "fig.add_subplot(3,2,5)\n",
    "plt.hist(data['ARR_DELAY'],label='Histogramme')\n",
    "plt.axvline(data['ARR_DELAY'].mean(),color='red',label='Mean')\n",
    "plt.legend()\n",
    "plt.title('Histogramme de ARR_DELAY',fontsize=18,color='b')"
   ]
  },
  {
   "cell_type": "markdown",
   "metadata": {},
   "source": [
    "<font color=blue><font size=3> ** Analyse multivriate ** </font>"
   ]
  },
  {
   "cell_type": "markdown",
   "metadata": {},
   "source": [
    "<font color='green'><font size=2> ** Qualitatives variables ** </font>"
   ]
  },
  {
   "cell_type": "markdown",
   "metadata": {},
   "source": [
    "<font color='Citron'>** We will try hereunder to  answer the following questions:  \n",
    "    -Does the number of the late flight depend to the quarter of the year? (Correlation between QUARTER and LATENESS )  \n",
    "    -Does the number of the late flight depend to the month of the year?( Correlation between MONTH and LATENESS)  \n",
    "    -Does the number of the late flight depend to the day of the month? (Correlation between DAY_OF_MONTH and LATENESS)  \n",
    "    -Does the number of the late flight depend to the day of the week ? (Correlation between DAY_OF_WEEK and LATENESS)  \n",
    "    ** </font>"
   ]
  },
  {
   "cell_type": "code",
   "execution_count": 43,
   "metadata": {},
   "outputs": [],
   "source": [
    "#to answer the above questions, we need to compute correlation betwen each pair of variables.\n",
    "#The above variables are qualtitive variables,so we need to compute the contingency table between each pair of variables.\n",
    "#Thus, we will define function which can display the contingency table and the mesure of correlation between \n",
    "# the pair of introduced variables.\n",
    "def corr_var(var1,var2):\n",
    "    '''This function, consist to mesure the correlation between the introduced variables and to give the contingency\n",
    "       table between them.\n",
    "       \n",
    "       Args:\n",
    "       \n",
    "       var1(Str): the name of the first variable\n",
    "       var2(str): the name of the second variable\n",
    "    '''\n",
    "    X=var1\n",
    "    Y=var2\n",
    "    cnt=data[[X,Y]].pivot_table(index=X,columns=Y,aggfunc=len)\n",
    "    tx=data[X].value_counts()\n",
    "    ty=data[Y].value_counts()\n",
    "    tx=pd.DataFrame(tx)\n",
    "    ty=pd.DataFrame(ty)\n",
    "    tx.columns=[\"values\"]\n",
    "    ty.columns=['values']\n",
    "    n=len(data)\n",
    "    ind=tx.dot(ty.T)/n\n",
    "    mesure=(ind-cnt)**2/ind\n",
    "    xin=mesure.sum().sum()\n",
    "    print(\"Mesure of correlation between the variable {} and the variable {} equal to : {}\".format(var1,var2,xin))\n",
    "    sns.heatmap(mesure,annot=True)\n",
    "    plt.title('Tableau de contingence entre {} et {}'.format(var1,var2),color='b')\n",
    "    plt.show()"
   ]
  },
  {
   "cell_type": "code",
   "execution_count": 44,
   "metadata": {},
   "outputs": [
    {
     "name": "stdout",
     "output_type": "stream",
     "text": [
      "Mesure of correlation between the variable QUARTER and the variable LATENESS equal to : 4587.045858090962\n"
     ]
    },
    {
     "data": {
      "image/png": "[encoded data removed]",
      "text/plain": [
       "<Figure size 432x288 with 2 Axes>"
      ]
     },
     "metadata": {},
     "output_type": "display_data"
    }
   ],
   "source": [
    "# Correlation between the variable QUARTER and the variable LATENESS.\n",
    "corr_var('QUARTER','LATENESS')"
   ]
  },
  {
   "cell_type": "code",
   "execution_count": 45,
   "metadata": {},
   "outputs": [
    {
     "name": "stdout",
     "output_type": "stream",
     "text": [
      "Mesure of correlation between the variable MONTH and the variable LATENESS equal to : 43168.63559522187\n"
     ]
    },
    {
     "data": {
      "image/png": "[encoded data removed]",
      "text/plain": [
       "<Figure size 432x288 with 2 Axes>"
      ]
     },
     "metadata": {},
     "output_type": "display_data"
    }
   ],
   "source": [
    "#Correlation between the variable MONTH and the variable LATENESS.\n",
    "corr_var('MONTH','LATENESS')"
   ]
  },
  {
   "cell_type": "code",
   "execution_count": 46,
   "metadata": {},
   "outputs": [
    {
     "name": "stdout",
     "output_type": "stream",
     "text": [
      "Mesure of correlation between the variable DAY_OF_MONTH and the variable LATENESS equal to : 7352.486112732171\n"
     ]
    },
    {
     "data": {
      "image/png": "[encoded data removed]",
      "text/plain": [
       "<Figure size 432x288 with 2 Axes>"
      ]
     },
     "metadata": {},
     "output_type": "display_data"
    }
   ],
   "source": [
    "#Correlation between the variable DAY_OF_MONTH and the variable LATENESS.\n",
    "corr_var('DAY_OF_MONTH','LATENESS')\n"
   ]
  },
  {
   "cell_type": "code",
   "execution_count": 47,
   "metadata": {},
   "outputs": [
    {
     "name": "stdout",
     "output_type": "stream",
     "text": [
      "Mesure of correlation between the variable DAY_OF_WEEK and the variable LATENESS equal to : 14203.934684913165\n"
     ]
    },
    {
     "data": {
      "image/png": "[encoded data removed]",
      "text/plain": [
       "<Figure size 432x288 with 2 Axes>"
      ]
     },
     "metadata": {},
     "output_type": "display_data"
    }
   ],
   "source": [
    "#Correlation between the variable DAY_OF_WEEK and the variable LATENESS.\n",
    "corr_var('DAY_OF_WEEK','LATENESS')"
   ]
  },
  {
   "cell_type": "markdown",
   "metadata": {},
   "source": [
    "** The above analyse,allow us to conclude that the late flights depend to the quarter,the month , the day of month, the day of week.It means that the variable LATENESS is not independant to the variables QUARTER,MONTH,DAY_OF_MONTH,DAY_OF_WEEK.**   "
   ]
  },
  {
   "cell_type": "markdown",
   "metadata": {},
   "source": [
    "<font color='green'> <font size=2> ** Quantitatives variables ** </font>"
   ]
  },
  {
   "cell_type": "markdown",
   "metadata": {},
   "source": [
    "<font color='CITRON'> **Hereunder, we will try to check the correlation between each pair of quantitative variables.**</font> "
   ]
  },
  {
   "cell_type": "code",
   "execution_count": 48,
   "metadata": {},
   "outputs": [
    {
     "data": {
      "text/html": [
       "<div>\n",
       "<style scoped>\n",
       "    .dataframe tbody tr th:only-of-type {\n",
       "        vertical-align: middle;\n",
       "    }\n",
       "\n",
       "    .dataframe tbody tr th {\n",
       "        vertical-align: top;\n",
       "    }\n",
       "\n",
       "    .dataframe thead th {\n",
       "        text-align: right;\n",
       "    }\n",
       "</style>\n",
       "<table border=\"1\" class=\"dataframe\">\n",
       "  <thead>\n",
       "    <tr style=\"text-align: right;\">\n",
       "      <th></th>\n",
       "      <th>CRS_DEP_TIME</th>\n",
       "      <th>CRS_ARR_TIME</th>\n",
       "      <th>CRS_ELAPSED_TIME</th>\n",
       "      <th>DISTANCE</th>\n",
       "      <th>risque_or_aeroport</th>\n",
       "      <th>risque_des_aeroport</th>\n",
       "      <th>ARR_DELAY</th>\n",
       "    </tr>\n",
       "  </thead>\n",
       "  <tbody>\n",
       "    <tr>\n",
       "      <th>CRS_DEP_TIME</th>\n",
       "      <td>1.000000</td>\n",
       "      <td>0.421402</td>\n",
       "      <td>0.048069</td>\n",
       "      <td>0.040746</td>\n",
       "      <td>-0.040585</td>\n",
       "      <td>0.048051</td>\n",
       "      <td>-0.074166</td>\n",
       "    </tr>\n",
       "    <tr>\n",
       "      <th>CRS_ARR_TIME</th>\n",
       "      <td>0.421402</td>\n",
       "      <td>1.000000</td>\n",
       "      <td>-0.043466</td>\n",
       "      <td>-0.041775</td>\n",
       "      <td>-0.111061</td>\n",
       "      <td>0.097873</td>\n",
       "      <td>-0.045987</td>\n",
       "    </tr>\n",
       "    <tr>\n",
       "      <th>CRS_ELAPSED_TIME</th>\n",
       "      <td>0.048069</td>\n",
       "      <td>-0.043466</td>\n",
       "      <td>1.000000</td>\n",
       "      <td>0.984570</td>\n",
       "      <td>0.083340</td>\n",
       "      <td>0.170111</td>\n",
       "      <td>-0.018993</td>\n",
       "    </tr>\n",
       "    <tr>\n",
       "      <th>DISTANCE</th>\n",
       "      <td>0.040746</td>\n",
       "      <td>-0.041775</td>\n",
       "      <td>0.984570</td>\n",
       "      <td>1.000000</td>\n",
       "      <td>0.092104</td>\n",
       "      <td>0.127470</td>\n",
       "      <td>-0.015238</td>\n",
       "    </tr>\n",
       "    <tr>\n",
       "      <th>risque_or_aeroport</th>\n",
       "      <td>-0.040585</td>\n",
       "      <td>-0.111061</td>\n",
       "      <td>0.083340</td>\n",
       "      <td>0.092104</td>\n",
       "      <td>1.000000</td>\n",
       "      <td>-0.286503</td>\n",
       "      <td>0.018346</td>\n",
       "    </tr>\n",
       "    <tr>\n",
       "      <th>risque_des_aeroport</th>\n",
       "      <td>0.048051</td>\n",
       "      <td>0.097873</td>\n",
       "      <td>0.170111</td>\n",
       "      <td>0.127470</td>\n",
       "      <td>-0.286503</td>\n",
       "      <td>1.000000</td>\n",
       "      <td>0.001599</td>\n",
       "    </tr>\n",
       "    <tr>\n",
       "      <th>ARR_DELAY</th>\n",
       "      <td>-0.074166</td>\n",
       "      <td>-0.045987</td>\n",
       "      <td>-0.018993</td>\n",
       "      <td>-0.015238</td>\n",
       "      <td>0.018346</td>\n",
       "      <td>0.001599</td>\n",
       "      <td>1.000000</td>\n",
       "    </tr>\n",
       "  </tbody>\n",
       "</table>\n",
       "</div>"
      ],
      "text/plain": [
       "                     CRS_DEP_TIME  CRS_ARR_TIME  CRS_ELAPSED_TIME  DISTANCE  \\\n",
       "CRS_DEP_TIME             1.000000      0.421402          0.048069  0.040746   \n",
       "CRS_ARR_TIME             0.421402      1.000000         -0.043466 -0.041775   \n",
       "CRS_ELAPSED_TIME         0.048069     -0.043466          1.000000  0.984570   \n",
       "DISTANCE                 0.040746     -0.041775          0.984570  1.000000   \n",
       "risque_or_aeroport      -0.040585     -0.111061          0.083340  0.092104   \n",
       "risque_des_aeroport      0.048051      0.097873          0.170111  0.127470   \n",
       "ARR_DELAY               -0.074166     -0.045987         -0.018993 -0.015238   \n",
       "\n",
       "                     risque_or_aeroport  risque_des_aeroport  ARR_DELAY  \n",
       "CRS_DEP_TIME                  -0.040585             0.048051  -0.074166  \n",
       "CRS_ARR_TIME                  -0.111061             0.097873  -0.045987  \n",
       "CRS_ELAPSED_TIME               0.083340             0.170111  -0.018993  \n",
       "DISTANCE                       0.092104             0.127470  -0.015238  \n",
       "risque_or_aeroport             1.000000            -0.286503   0.018346  \n",
       "risque_des_aeroport           -0.286503             1.000000   0.001599  \n",
       "ARR_DELAY                      0.018346             0.001599   1.000000  "
      ]
     },
     "execution_count": 48,
     "metadata": {},
     "output_type": "execute_result"
    }
   ],
   "source": [
    "table_corr=data[['CRS_DEP_TIME','CRS_ARR_TIME','CRS_ELAPSED_TIME','DISTANCE','risque_or_aeroport'\\\n",
    "                ,'risque_des_aeroport','ARR_DELAY']].corr()\n",
    "table_corr"
   ]
  },
  {
   "cell_type": "markdown",
   "metadata": {},
   "source": [
    "**The above table of correlation, give us the following conclusions:  \n",
    "    -There is barely no correlation between ARR_DELAY and seperatly the rest of quantitatives variables.  \n",
    "    -As it is waited, a perfect linear correlation between the variable DISTANCE and CRS_ELAPSED_TIME.  \n",
    "    -As it is waited, a highly correlation between the variable CRS_DEP_TIME and the variable CRS_ARR_TIME. **\n",
    "    "
   ]
  },
  {
   "cell_type": "code",
   "execution_count": 49,
   "metadata": {},
   "outputs": [
    {
     "data": {
      "image/png": "[encoded data removed]",
      "text/plain": [
       "<Figure size 432x288 with 1 Axes>"
      ]
     },
     "metadata": {},
     "output_type": "display_data"
    }
   ],
   "source": [
    "#The visualization of the relation between CRS_ELAPSED_TIME and DISTANCE.\n",
    "plt.scatter(data['DISTANCE'],data['CRS_ELAPSED_TIME'])\n",
    "plt.xlabel('DISTANCE')\n",
    "plt.ylabel('CRS_ELAPSED_TIME')\n",
    "plt.title('CRS_ELAPSED_TIME=f(DISTANCE)')\n",
    "plt.show()"
   ]
  },
  {
   "cell_type": "markdown",
   "metadata": {},
   "source": [
    "Herreunder,we will try to find a linear model which link CRS_ELAPSED_TIME to DISTANCE."
   ]
  },
  {
   "cell_type": "code",
   "execution_count": 50,
   "metadata": {},
   "outputs": [],
   "source": [
    "from sklearn.linear_model import LinearRegression\n",
    "from sklearn.model_selection import train_test_split\n",
    "from sklearn.metrics import mean_squared_error\n",
    "from math import sqrt"
   ]
  },
  {
   "cell_type": "code",
   "execution_count": 51,
   "metadata": {},
   "outputs": [
    {
     "name": "stderr",
     "output_type": "stream",
     "text": [
      "/home/taher/anaconda3/lib/python3.6/site-packages/sklearn/model_selection/_split.py:2026: FutureWarning: From version 0.21, test_size will always complement train_size unless both are specified.\n",
      "  FutureWarning)\n"
     ]
    },
    {
     "data": {
      "text/plain": [
       "LinearRegression(copy_X=True, fit_intercept=False, n_jobs=1, normalize=False)"
      ]
     },
     "execution_count": 51,
     "metadata": {},
     "output_type": "execute_result"
    }
   ],
   "source": [
    "#Linear model links the variable DISTANCE to the variable CRS_ELAPSED_TIME\n",
    "X=pd.DataFrame({'cte':list(np.ones(len(data))),'d':list(data['DISTANCE'].values)})\n",
    "Y=data['CRS_ELAPSED_TIME']\n",
    "Xtr,Xts,Ytr,Yts=train_test_split(X,Y,train_size=0.7)\n",
    "regressor=LinearRegression(fit_intercept=False)\n",
    "regressor.fit(Xtr,Ytr)\n"
   ]
  },
  {
   "cell_type": "code",
   "execution_count": 52,
   "metadata": {},
   "outputs": [
    {
     "name": "stdout",
     "output_type": "stream",
     "text": [
      "The robustness of the found model is :13.359346234926594\n"
     ]
    }
   ],
   "source": [
    "#Compute the robustness of found model\n",
    "ypred=regressor.predict(Xts)\n",
    "print('The robustness of the found model is :{}'.format(sqrt(mean_squared_error(Yts,ypred))))"
   ]
  },
  {
   "cell_type": "code",
   "execution_count": 53,
   "metadata": {},
   "outputs": [
    {
     "name": "stdout",
     "output_type": "stream",
     "text": [
      "The coefficient of the linear model is [42.11256099  0.12151838]\n"
     ]
    }
   ],
   "source": [
    "# Determinate the coefficients of the linear model which link the variable Distance to the variable CRS_ELAPSED_TIME\n",
    "print('The coefficient of the linear model is {}'.format(regressor.coef_))\n"
   ]
  },
  {
   "cell_type": "markdown",
   "metadata": {},
   "source": [
    "                                CRS_ELAPSED_TIME=42.13+0.12*DISTANCE "
   ]
  },
  {
   "cell_type": "code",
   "execution_count": 54,
   "metadata": {},
   "outputs": [
    {
     "data": {
      "image/png": "[encoded data removed]",
      "text/plain": [
       "<Figure size 432x288 with 1 Axes>"
      ]
     },
     "metadata": {},
     "output_type": "display_data"
    }
   ],
   "source": [
    "#Comparaison between true and regressed values.\n",
    "plt.scatter(data['DISTANCE'],data['CRS_ELAPSED_TIME'],label='true values')\n",
    "plt.scatter(data['DISTANCE'],np.full(len(data),42.13)+0.12*np.array(list(data['DISTANCE'].values)),label='regressed values')\n",
    "plt.legend()\n",
    "plt.title('Comparaison between true and regressed values',color='b')\n",
    "plt.show()"
   ]
  },
  {
   "cell_type": "code",
   "execution_count": 55,
   "metadata": {},
   "outputs": [
    {
     "data": {
      "image/png": "[encoded data removed]",
      "text/plain": [
       "<Figure size 432x288 with 1 Axes>"
      ]
     },
     "metadata": {},
     "output_type": "display_data"
    }
   ],
   "source": [
    "#Visualizing of CRS_ARR_TIME in function to CRS_DEP_TIME.\n",
    "plt.scatter(data['CRS_DEP_TIME'],data['CRS_ARR_TIME'])\n",
    "plt.xlabel('CRS_DEP_TIME')\n",
    "plt.ylabel('CRS_ARR_TIME')\n",
    "plt.title('CRS_ARR_TIME=f(CRS_DEP_TIME)')\n",
    "plt.show()"
   ]
  },
  {
   "cell_type": "code",
   "execution_count": 56,
   "metadata": {},
   "outputs": [],
   "source": [
    "tab_nb.to_csv('arrive_aeroport')"
   ]
  },
  {
   "cell_type": "code",
   "execution_count": 57,
   "metadata": {},
   "outputs": [],
   "source": [
    "tab_nb_retards.to_csv('origin_aeroport')"
   ]
  },
  {
   "cell_type": "code",
   "execution_count": 58,
   "metadata": {},
   "outputs": [],
   "source": [
    "del(data['DEST'])\n",
    "del(data['ORIGIN'])\n"
   ]
  },
  {
   "cell_type": "code",
   "execution_count": 59,
   "metadata": {},
   "outputs": [],
   "source": [
    "li=list(data.columns)"
   ]
  },
  {
   "cell_type": "code",
   "execution_count": 60,
   "metadata": {},
   "outputs": [],
   "source": [
    "li.remove('ARR_DELAY') \n",
    "li.remove('LATENESS')"
   ]
  },
  {
   "cell_type": "code",
   "execution_count": 61,
   "metadata": {},
   "outputs": [],
   "source": [
    "li.append('LATENESS') # put the variable LATENESS and ARR_DELAY in the end of the list\n",
    "li.append('ARR_DELAY')"
   ]
  },
  {
   "cell_type": "code",
   "execution_count": 62,
   "metadata": {},
   "outputs": [],
   "source": [
    "data=data[li]"
   ]
  },
  {
   "cell_type": "code",
   "execution_count": 63,
   "metadata": {},
   "outputs": [
    {
     "data": {
      "text/html": [
       "<div>\n",
       "<style scoped>\n",
       "    .dataframe tbody tr th:only-of-type {\n",
       "        vertical-align: middle;\n",
       "    }\n",
       "\n",
       "    .dataframe tbody tr th {\n",
       "        vertical-align: top;\n",
       "    }\n",
       "\n",
       "    .dataframe thead th {\n",
       "        text-align: right;\n",
       "    }\n",
       "</style>\n",
       "<table border=\"1\" class=\"dataframe\">\n",
       "  <thead>\n",
       "    <tr style=\"text-align: right;\">\n",
       "      <th></th>\n",
       "      <th>QUARTER</th>\n",
       "      <th>MONTH</th>\n",
       "      <th>DAY_OF_MONTH</th>\n",
       "      <th>DAY_OF_WEEK</th>\n",
       "      <th>CRS_DEP_TIME</th>\n",
       "      <th>CRS_ARR_TIME</th>\n",
       "      <th>CRS_ELAPSED_TIME</th>\n",
       "      <th>DISTANCE</th>\n",
       "      <th>AA</th>\n",
       "      <th>AS</th>\n",
       "      <th>...</th>\n",
       "      <th>NK</th>\n",
       "      <th>EV</th>\n",
       "      <th>OO</th>\n",
       "      <th>UA</th>\n",
       "      <th>VX</th>\n",
       "      <th>WN</th>\n",
       "      <th>risque_or_aeroport</th>\n",
       "      <th>risque_des_aeroport</th>\n",
       "      <th>LATENESS</th>\n",
       "      <th>ARR_DELAY</th>\n",
       "    </tr>\n",
       "  </thead>\n",
       "  <tbody>\n",
       "    <tr>\n",
       "      <th>0</th>\n",
       "      <td>1</td>\n",
       "      <td>1</td>\n",
       "      <td>6.0</td>\n",
       "      <td>3</td>\n",
       "      <td>660.0</td>\n",
       "      <td>878.0</td>\n",
       "      <td>158.0</td>\n",
       "      <td>986.0</td>\n",
       "      <td>1</td>\n",
       "      <td>0</td>\n",
       "      <td>...</td>\n",
       "      <td>0</td>\n",
       "      <td>0</td>\n",
       "      <td>0</td>\n",
       "      <td>0</td>\n",
       "      <td>0</td>\n",
       "      <td>0</td>\n",
       "      <td>76937</td>\n",
       "      <td>34317</td>\n",
       "      <td>0</td>\n",
       "      <td>-6.0</td>\n",
       "    </tr>\n",
       "    <tr>\n",
       "      <th>1</th>\n",
       "      <td>1</td>\n",
       "      <td>1</td>\n",
       "      <td>7.0</td>\n",
       "      <td>4</td>\n",
       "      <td>660.0</td>\n",
       "      <td>878.0</td>\n",
       "      <td>158.0</td>\n",
       "      <td>986.0</td>\n",
       "      <td>1</td>\n",
       "      <td>0</td>\n",
       "      <td>...</td>\n",
       "      <td>0</td>\n",
       "      <td>0</td>\n",
       "      <td>0</td>\n",
       "      <td>0</td>\n",
       "      <td>0</td>\n",
       "      <td>0</td>\n",
       "      <td>76937</td>\n",
       "      <td>34317</td>\n",
       "      <td>0</td>\n",
       "      <td>-12.0</td>\n",
       "    </tr>\n",
       "    <tr>\n",
       "      <th>2</th>\n",
       "      <td>1</td>\n",
       "      <td>1</td>\n",
       "      <td>8.0</td>\n",
       "      <td>5</td>\n",
       "      <td>660.0</td>\n",
       "      <td>878.0</td>\n",
       "      <td>158.0</td>\n",
       "      <td>986.0</td>\n",
       "      <td>1</td>\n",
       "      <td>0</td>\n",
       "      <td>...</td>\n",
       "      <td>0</td>\n",
       "      <td>0</td>\n",
       "      <td>0</td>\n",
       "      <td>0</td>\n",
       "      <td>0</td>\n",
       "      <td>0</td>\n",
       "      <td>76937</td>\n",
       "      <td>34317</td>\n",
       "      <td>1</td>\n",
       "      <td>7.0</td>\n",
       "    </tr>\n",
       "    <tr>\n",
       "      <th>3</th>\n",
       "      <td>1</td>\n",
       "      <td>1</td>\n",
       "      <td>9.0</td>\n",
       "      <td>6</td>\n",
       "      <td>660.0</td>\n",
       "      <td>878.0</td>\n",
       "      <td>158.0</td>\n",
       "      <td>986.0</td>\n",
       "      <td>1</td>\n",
       "      <td>0</td>\n",
       "      <td>...</td>\n",
       "      <td>0</td>\n",
       "      <td>0</td>\n",
       "      <td>0</td>\n",
       "      <td>0</td>\n",
       "      <td>0</td>\n",
       "      <td>0</td>\n",
       "      <td>76937</td>\n",
       "      <td>34317</td>\n",
       "      <td>0</td>\n",
       "      <td>-5.0</td>\n",
       "    </tr>\n",
       "    <tr>\n",
       "      <th>4</th>\n",
       "      <td>1</td>\n",
       "      <td>1</td>\n",
       "      <td>10.0</td>\n",
       "      <td>7</td>\n",
       "      <td>660.0</td>\n",
       "      <td>878.0</td>\n",
       "      <td>158.0</td>\n",
       "      <td>986.0</td>\n",
       "      <td>1</td>\n",
       "      <td>0</td>\n",
       "      <td>...</td>\n",
       "      <td>0</td>\n",
       "      <td>0</td>\n",
       "      <td>0</td>\n",
       "      <td>0</td>\n",
       "      <td>0</td>\n",
       "      <td>0</td>\n",
       "      <td>76937</td>\n",
       "      <td>34317</td>\n",
       "      <td>1</td>\n",
       "      <td>113.0</td>\n",
       "    </tr>\n",
       "  </tbody>\n",
       "</table>\n",
       "<p>5 rows × 24 columns</p>\n",
       "</div>"
      ],
      "text/plain": [
       "   QUARTER  MONTH  DAY_OF_MONTH  DAY_OF_WEEK  CRS_DEP_TIME  CRS_ARR_TIME  \\\n",
       "0        1      1           6.0            3         660.0         878.0   \n",
       "1        1      1           7.0            4         660.0         878.0   \n",
       "2        1      1           8.0            5         660.0         878.0   \n",
       "3        1      1           9.0            6         660.0         878.0   \n",
       "4        1      1          10.0            7         660.0         878.0   \n",
       "\n",
       "   CRS_ELAPSED_TIME  DISTANCE  AA  AS    ...      NK  EV  OO  UA  VX  WN  \\\n",
       "0             158.0     986.0   1   0    ...       0   0   0   0   0   0   \n",
       "1             158.0     986.0   1   0    ...       0   0   0   0   0   0   \n",
       "2             158.0     986.0   1   0    ...       0   0   0   0   0   0   \n",
       "3             158.0     986.0   1   0    ...       0   0   0   0   0   0   \n",
       "4             158.0     986.0   1   0    ...       0   0   0   0   0   0   \n",
       "\n",
       "   risque_or_aeroport  risque_des_aeroport  LATENESS  ARR_DELAY  \n",
       "0               76937                34317         0       -6.0  \n",
       "1               76937                34317         0      -12.0  \n",
       "2               76937                34317         1        7.0  \n",
       "3               76937                34317         0       -5.0  \n",
       "4               76937                34317         1      113.0  \n",
       "\n",
       "[5 rows x 24 columns]"
      ]
     },
     "execution_count": 63,
     "metadata": {},
     "output_type": "execute_result"
    }
   ],
   "source": [
    "data.head()"
   ]
  },
  {
   "cell_type": "code",
   "execution_count": 64,
   "metadata": {},
   "outputs": [],
   "source": [
    "data.to_csv('vols.csv')"
   ]
  },
  {
   "cell_type": "code",
   "execution_count": null,
   "metadata": {},
   "outputs": [],
   "source": []
  }
 ],
 "metadata": {
  "kernelspec": {
   "display_name": "Python 3",
   "language": "python",
   "name": "python3"
  },
  "language_info": {
   "codemirror_mode": {
    "name": "ipython",
    "version": 3
   },
   "file_extension": ".py",
   "mimetype": "text/x-python",
   "name": "python",
   "nbconvert_exporter": "python",
   "pygments_lexer": "ipython3",
   "version": "3.6.5"
  }
 },
 "nbformat": 4,
 "nbformat_minor": 2
}
